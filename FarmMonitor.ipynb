{
 "cells": [
  {
   "cell_type": "code",
   "execution_count": 1,
   "metadata": {
    "scrolled": false
   },
   "outputs": [],
   "source": [
    "# !conda install -c conda-forge earthengine-api -y"
   ]
  },
  {
   "cell_type": "code",
   "execution_count": 18,
   "metadata": {},
   "outputs": [
    {
     "data": {
      "text/html": [
       "<h1><center>Farm Monitor</center></h1>"
      ],
      "text/plain": [
       "<IPython.core.display.HTML object>"
      ]
     },
     "metadata": {},
     "output_type": "display_data"
    },
    {
     "data": {
      "text/html": [
       "<p> <b>INSTRUCTIONS:</b> Click on the pentagon icon and make a polygon outlining your field. Then let Farm Monitor do its magic!</p>"
      ],
      "text/plain": [
       "<IPython.core.display.HTML object>"
      ]
     },
     "metadata": {},
     "output_type": "display_data"
    }
   ],
   "source": [
    "from IPython.core.display import display, HTML\n",
    "display(HTML('<h1><center>Farm Monitor</center></h1>'))\n",
    "display(HTML('<p> <b>INSTRUCTIONS:</b> Click on the pentagon icon and make a polygon outlining your field. Then let Farm Monitor do its magic!</p>'))"
   ]
  },
  {
   "cell_type": "code",
   "execution_count": 19,
   "metadata": {
    "scrolled": false
   },
   "outputs": [],
   "source": [
    "import subprocess\n",
    "from datetime import datetime\n",
    "from geemap import DrawControl\n",
    "\n",
    "try:\n",
    "        import geemap\n",
    "except ImportError:\n",
    "        print('geemap/pyshp package not installed. Installing ...')\n",
    "        subprocess.check_call([\"python\", '-m', 'pip', 'install', 'geemap'])\n",
    "\n",
    "import geemap as emap\n",
    "from ipygee import *\n",
    "\n",
    "# Authenticates and initializes Earth Engine\n",
    "import ee\n",
    "\n",
    "try:\n",
    "        ee.Initialize()\n",
    "except Exception as e:\n",
    "        ee.Authenticate()\n",
    "        ee.Initialize()\n",
    "\n"
   ]
  },
  {
   "cell_type": "code",
   "execution_count": 20,
   "metadata": {},
   "outputs": [],
   "source": [
    "from ipygee import *\n",
    "import plotly.express as px\n",
    "from plotly.subplots import make_subplots\n",
    "import plotly.graph_objects as go\n",
    "\n",
    "\n",
    "from ipywidgets import HTML\n",
    "from ipyleaflet import Popup\n",
    "\n",
    "import ipywidgets as widgets\n",
    "import pandas as pd\n",
    "from datetime import datetime\n",
    "from datetime import timedelta\n",
    "from ipyleaflet import WidgetControl"
   ]
  },
  {
   "cell_type": "code",
   "execution_count": 21,
   "metadata": {
    "scrolled": false
   },
   "outputs": [],
   "source": [
    "# !pip install earthengine-api\n",
    "# !pip install plotly\n",
    "# !pip install ipyleaflet\n",
    "# !pip install ipywidgets\n",
    "# !pip install geemap\n",
    "# !jupyter nbextension list\n",
    "# !pip install ipygee"
   ]
  },
  {
   "cell_type": "code",
   "execution_count": 22,
   "metadata": {},
   "outputs": [],
   "source": [
    "import numpy as np\n",
    "\n",
    "def get_popup(geometry_object, start_date, end_date):\n",
    "\n",
    "    region = geometry_object\n",
    "    imageData = ee.ImageCollection(\"LANDSAT/LC08/C01/T1_TOA\").filterDate(start_date, end_date)\n",
    "    imageData = imageData.map(lambda image : image.clip(geometry_object))\n",
    "    imageData = imageData.filterBounds(region)\n",
    "\n",
    "    imageData = imageData.map(cloudlessNDVI)\n",
    "    imageData = imageData.map(cloudlessMoistureIndex)\n",
    "    imageData = imageData.map(get_pH)\n",
    "    ndmi_ph = None\n",
    "    ndvi_val=None\n",
    "    ndmi_val = None\n",
    "   \n",
    "    # NDVI first\n",
    "    ndvi_df = make_values(start_date, end_date, imageData, region, \"NDVI\").dataframe\n",
    "    ndvi_val = np.mean(ndvi_df['NDVI'])\n",
    "   \n",
    "    # NDMI second\n",
    "    ndmi_df = make_values(start_date, end_date, imageData, region, \"NDMI\").dataframe\n",
    "    ndmi_val = np.mean(ndmi_df['NDMI'])\n",
    "    \n",
    "    # pH finally\n",
    "    ndmi_ph = make_values(start_date, end_date, imageData, region, \"pH\").dataframe\n",
    "    ph_val = np.mean(ndmi_ph['pH'])\n",
    "   \n",
    "    centroid = geometry_object.centroid().getInfo()\n",
    "    center = centroid['coordinates']\n",
    "    temp = center[0]\n",
    "    center[0] = center[1]\n",
    "    center[1] = temp\n",
    "   \n",
    "    if ndvi_val and ndmi_val and ph_val:\n",
    "       # print(\"yay\")\n",
    "        message1 = HTML()\n",
    "        message1.value = \"Vegetation Index: {:.4f},<br> Moisture Index:{:.4f},<br> pH value:{:.4f}\".format(ndvi_val, ndmi_val,ph_val)\n",
    "\n",
    "        popup = Popup(\n",
    "            location=center,\n",
    "            child=message1,\n",
    "            close_button=True,\n",
    "            auto_close=True,\n",
    "            close_on_escape_key=False\n",
    "        )\n",
    "\n",
    "        Map.add_layer(popup)\n",
    "    else:\n",
    "        print(\"No PopUp Generated\")"
   ]
  },
  {
   "cell_type": "code",
   "execution_count": 23,
   "metadata": {},
   "outputs": [],
   "source": [
    "def add_shape_files(Map):\n",
    "    file_names = [\"QSC_Extracted_Data_Foxdale\",\"QSC_Extracted_Data_GlenIsla\",\"QSC_Extracted_Data_HamiltonPlains\",\"QSC_Extracted_Data_KelseyCreek\",\"QSC_Extracted_Data_Myrtlevale\",\"QSC_Extracted_Data_Proserpine\"]\n",
    "\n",
    "    for files in file_names:\n",
    "        qld_properties_shp = files + \"/Property_boundaries___DCDB_Lite.shp\"\n",
    "        qld_properties = geemap.shp_to_ee(qld_properties_shp)\n",
    "        Map.addLayer(qld_properties, {}, files.split('_')[3])"
   ]
  },
  {
   "cell_type": "code",
   "execution_count": 24,
   "metadata": {},
   "outputs": [],
   "source": [
    "def make_values(startDate, endDate, imageCollection, region, band_type):\n",
    "    imageCollection = imageCollection.select(band_type)\n",
    "    chart_ts = chart.Image.series(**{\n",
    "        'imageCollection': imageCollection, \n",
    "        'region': region,\n",
    "        'scale': 50,\n",
    "        'band': band_type,\n",
    "        'label_bands':[band_type],\n",
    "        'reducer':ee.Reducer.mean()\n",
    "    })\n",
    "\n",
    "    return chart_ts"
   ]
  },
  {
   "cell_type": "code",
   "execution_count": 25,
   "metadata": {
    "scrolled": false
   },
   "outputs": [],
   "source": [
    "import ee \n",
    "from ipygee import *\n",
    "import plotly.express as px\n",
    "from plotly.subplots import make_subplots\n",
    "import plotly.graph_objects as go\n",
    "\n",
    "\n",
    "def get_time_series_chart(features, startDate, endDate, band_to_add = \"NDVI\"):\n",
    "    \n",
    "#     print(\"MAKING Chart for : \", band_to_add)\n",
    "    \n",
    "    plotData = pd.DataFrame()\n",
    "    fig = go.Figure()\n",
    "    \n",
    "    fig.update_layout(\n",
    "    title= band_to_add + \" values over the years\",\n",
    "    xaxis_title=\"Time\",\n",
    "    yaxis_title=band_to_add,\n",
    "    )\n",
    "    \n",
    "    feature_count = 0\n",
    "    for feature in features:\n",
    "        feature_count += 1\n",
    "\n",
    "        region = ee.Geometry(feature['geometry'])\n",
    "    \n",
    "        # filter the imageCollection to images of the given range\n",
    "        imageData = ee.ImageCollection(\"LANDSAT/LC08/C01/T1_TOA\").filterDate(startDate, endDate)\n",
    "\n",
    "        # clip the images to the given region\n",
    "        imageData = imageData.filterBounds(region)\n",
    "\n",
    "        if band_to_add == \"NDVI\":\n",
    "            # add the NDVI band and select it\n",
    "            imageData = imageData.map(cloudlessNDVI)\n",
    "            imageData = imageData.select('NDVI');\n",
    "            \n",
    "        elif band_to_add == \"NDMI\":\n",
    "            # add the NDMI band and select it\n",
    "            imageData = imageData.map(cloudlessMoistureIndex)\n",
    "            imageData = imageData.select('NDMI');\n",
    "            \n",
    "        elif band_to_add == \"pH\":\n",
    "            # add the NDMI band and select it\n",
    "            imageData = imageData.map(get_pH)\n",
    "            imageData = imageData.select('pH');\n",
    "            \n",
    "        else:\n",
    "            print(\"Invalid parameter for band_to_add:\", band_to_add)\n",
    "            return fig\n",
    "\n",
    "        # get the data from the selected imageCollection\n",
    "        chartData = make_values(startDate, endDate, imageData, region, band_to_add)\n",
    "        chartData = chartData.dataframe\n",
    "    \n",
    "        # converting the labels to the required date format\n",
    "        y = [pd.to_datetime(tm) for tm in chartData.index]\n",
    "        labels = [x.strftime('%b %e, %y') for x in y]\n",
    "        chartData[\"Time\"] = labels\n",
    "        if band_to_add == \"NDVI\":\n",
    "            chartData = chartData[[\"Time\", \"NDVI\"]]\n",
    "            chartData.rename(columns={\"NDVI\": \"NDVI-\" + str(feature_count)}, inplace = True)\n",
    "        elif band_to_add == \"NDMI\":\n",
    "            chartData = chartData[[\"Time\", \"NDMI\"]]\n",
    "            chartData.rename(columns={\"NDMI\": \"NDMI-\" + str(feature_count)}, inplace = True)\n",
    "        elif band_to_add == \"pH\":\n",
    "            chartData = chartData[[\"Time\", \"pH\"]]\n",
    "            chartData.rename(columns={\"pH\": \"pH-\" + str(feature_count)}, inplace = True)\n",
    "\n",
    "        if plotData.empty:\n",
    "            plotData = chartData\n",
    "        else:\n",
    "            plotData = pd.merge(plotData, chartData, on=\"Time\")\n",
    "\n",
    "    index = 1\n",
    "    for i in range(len(plotData.columns) - 1):\n",
    "        # create the plot\n",
    "        if band_to_add == \"NDVI\":\n",
    "            fig.add_trace(go.Scatter(x=plotData[\"Time\"], y = plotData.iloc[:,index], mode=\"lines\", name = \"NDVI-\" + str(index)))\n",
    "        elif band_to_add == \"NDMI\":\n",
    "            fig.add_trace(go.Scatter(x=plotData[\"Time\"], y = plotData.iloc[:,index], mode=\"lines\", name = \"NDMI-\" + str(index)))\n",
    "        elif band_to_add == \"pH\":\n",
    "            fig.add_trace(go.Scatter(x=plotData[\"Time\"], y = plotData.iloc[:,index], mode=\"lines\", name = \"pH-\" + str(index)))\n",
    "        index += 1\n",
    "    return fig\n",
    "\n"
   ]
  },
  {
   "cell_type": "code",
   "execution_count": 26,
   "metadata": {
    "scrolled": false
   },
   "outputs": [
    {
     "data": {
      "application/vnd.jupyter.widget-view+json": {
       "model_id": "a05319c7f7ae42bd93f2054388218527",
       "version_major": 2,
       "version_minor": 0
      },
      "text/plain": [
       "interactive(children=(SelectionSlider(continuous_update=False, description='Date:', options=((' 01 Jan 14 ', T…"
      ]
     },
     "metadata": {},
     "output_type": "display_data"
    },
    {
     "data": {
      "application/vnd.jupyter.widget-view+json": {
       "model_id": "530fba17e89848619e2d19dcd46fd641",
       "version_major": 2,
       "version_minor": 0
      },
      "text/plain": [
       "Map(center=[-20, 148], controls=(WidgetControl(options=['position'], widget=HBox(children=(ToggleButton(value=…"
      ]
     },
     "metadata": {},
     "output_type": "display_data"
    },
    {
     "data": {
      "application/vnd.plotly.v1+json": {
       "config": {
        "plotlyServerURL": "https://plot.ly"
       },
       "data": [
        {
         "mode": "lines",
         "name": "NDVI-1",
         "type": "scatter",
         "x": [
          "Jan  5, 14",
          "Feb 22, 14",
          "Apr 27, 14",
          "May 29, 14",
          "Jun 30, 14",
          "Jul 16, 14",
          "Aug  1, 14",
          "Aug 17, 14",
          "Sep  2, 14",
          "Sep 18, 14",
          "Oct  4, 14",
          "Oct 20, 14",
          "Nov  5, 14",
          "Nov 21, 14",
          "Dec  7, 14",
          "Dec 23, 14",
          "Jan  8, 15",
          "Jan 24, 15",
          "Feb  9, 15",
          "Mar 13, 15",
          "Mar 29, 15",
          "Apr 14, 15",
          "Apr 30, 15",
          "May 16, 15",
          "Jun 17, 15",
          "Jul  3, 15",
          "Jul 19, 15",
          "Aug  4, 15",
          "Aug 20, 15",
          "Sep  5, 15",
          "Sep 21, 15",
          "Oct  7, 15",
          "Oct 23, 15",
          "Nov  8, 15",
          "Nov 24, 15",
          "Dec 10, 15",
          "Dec 26, 15",
          "Jan 11, 16",
          "Feb 12, 16",
          "Feb 28, 16",
          "Mar 31, 16",
          "Apr 16, 16",
          "May  2, 16",
          "May 18, 16",
          "Jun  3, 16",
          "Jul  5, 16",
          "Jul 21, 16",
          "Aug  6, 16",
          "Aug 22, 16",
          "Sep  7, 16",
          "Sep 23, 16",
          "Oct  9, 16",
          "Oct 25, 16",
          "Nov 10, 16",
          "Nov 26, 16",
          "Dec 28, 16",
          "Jan 13, 17",
          "Jan 29, 17",
          "Feb 14, 17",
          "Mar  2, 17",
          "Mar 18, 17",
          "Apr  3, 17",
          "May  5, 17",
          "May 21, 17",
          "Jun 22, 17",
          "Jul  8, 17",
          "Jul 24, 17",
          "Aug  9, 17",
          "Aug 25, 17",
          "Sep 10, 17",
          "Sep 26, 17",
          "Oct 12, 17",
          "Oct 28, 17",
          "Nov 13, 17",
          "Dec 15, 17",
          "Dec 31, 17",
          "Feb  1, 18",
          "Feb 17, 18",
          "Mar  5, 18",
          "Mar 21, 18",
          "Apr 22, 18",
          "May  8, 18",
          "Jun  9, 18",
          "Jun 25, 18",
          "Jul 27, 18",
          "Aug 12, 18",
          "Aug 28, 18",
          "Sep 13, 18",
          "Sep 29, 18",
          "Oct 15, 18",
          "Oct 31, 18",
          "Nov 16, 18",
          "Dec  2, 18",
          "Dec 18, 18",
          "Jan  3, 19",
          "Jan 19, 19",
          "Feb 20, 19",
          "Apr  9, 19",
          "Apr 25, 19",
          "May 11, 19",
          "Jun 12, 19",
          "Jun 28, 19",
          "Jul 14, 19",
          "Jul 30, 19",
          "Aug 15, 19",
          "Aug 31, 19",
          "Sep 16, 19",
          "Oct  2, 19",
          "Oct 18, 19",
          "Nov  3, 19",
          "Nov 19, 19",
          "Dec  5, 19",
          "Jan 22, 20",
          "Feb  7, 20",
          "Apr 11, 20",
          "Apr 27, 20",
          "May 13, 20",
          "May 29, 20",
          "Jun 14, 20",
          "Jul 16, 20",
          "Aug  1, 20",
          "Aug 17, 20",
          "Sep 18, 20",
          "Oct  4, 20",
          "Oct 20, 20",
          "Nov 21, 20",
          "Dec  7, 20"
         ],
         "y": [
          0.3694890164529957,
          0.5845252484055656,
          0.4967170412828512,
          0.5513871534912319,
          0.5287310599506678,
          0.46922725121993414,
          0.39096992936468566,
          0.3528573049364679,
          0.3783057232177961,
          0.36120873395400777,
          0.2979316611581769,
          0.32966983452410525,
          0.29065049550693733,
          0.3040732209204409,
          0.3047051097435411,
          0.416165320195627,
          0.3769548524320079,
          0.5829862833660338,
          0.6623081828870142,
          0.47018911571007044,
          0.5391829688615427,
          0.5656479946625735,
          0.5624784951414719,
          0.21737166585148535,
          0.41786710918512865,
          0.48736254174834504,
          0.4443039255345104,
          0.4011395725127754,
          0.3721439149602608,
          0.34451179017023126,
          0.30648941011476905,
          0.2656814664764261,
          0.29400817471784746,
          0.31636567410874117,
          0.42653369409851377,
          0.35405871642084297,
          0.32888997481790594,
          0.5010544971730423,
          0.5644275384774899,
          0.6145164818183197,
          0.4504683781429334,
          0.6245008904804153,
          0.6143934816092057,
          0.6025482581396842,
          0.5537964787995628,
          0.5094670786844234,
          0.3798846121109867,
          0.40609074492836744,
          0.41150295299037665,
          0.3817323501117641,
          0.5141498592936785,
          0.5244285215048953,
          0.4963033982978429,
          0.4642386802562752,
          0.3807985575863258,
          0.4082750076722507,
          0.2998994259709171,
          0.5752313117824746,
          0.530713991010314,
          0.6357680234571362,
          0.633574031201968,
          0.6068137456598186,
          0.6004669578197778,
          0.5484177099664941,
          0.48615641257100817,
          0.4747870802359455,
          0.2620826893276913,
          0.4550654607410395,
          0.42797507819468517,
          0.3480333583617943,
          0.36076299596341505,
          0.3301794461105486,
          0.3798720540749127,
          0.5044478838696468,
          0.419698977490085,
          0.4200421219437658,
          0.499830500320343,
          0.56130193994569,
          0.5199082222731601,
          0.6304532570077085,
          0.6628411940486243,
          0.6121113979403969,
          0.44088131802934755,
          0.33976736178509226,
          0.2424054675150198,
          0.3717592090562224,
          0.3245969260841499,
          0.18886619135881869,
          0.29782467703793974,
          0.2658184663614684,
          0.28346581093476725,
          0.2739851964704507,
          0.19337989213747395,
          0.3411612165756713,
          0.46502320938672914,
          0.37480052662047625,
          0.670455105114281,
          0.665683398321839,
          0.5218090558398571,
          0.6055789898253989,
          0.5580604089970455,
          0.3703916932814901,
          0.4809390262988771,
          0.4137767304644325,
          0.381042315474274,
          0.25969420726773035,
          0.3530152109875071,
          0.17145613584029096,
          0.3703815119496533,
          0.36882620209615263,
          0.256792552091892,
          0.30856310862813885,
          0.5437519780301545,
          0.4943054276405674,
          0.6636594824610081,
          0.6135374820677953,
          0.5743948340528937,
          0.540186868202628,
          0.47954926001862724,
          0.5139306979004132,
          0.48332876865960356,
          0.49407855235884063,
          0.35922634071153653,
          0.38875907882059946,
          0.33422138853682515,
          0.2005224644139265,
          0.3021131297242672
         ]
        }
       ],
       "layout": {
        "template": {
         "data": {
          "bar": [
           {
            "error_x": {
             "color": "#2a3f5f"
            },
            "error_y": {
             "color": "#2a3f5f"
            },
            "marker": {
             "line": {
              "color": "#E5ECF6",
              "width": 0.5
             }
            },
            "type": "bar"
           }
          ],
          "barpolar": [
           {
            "marker": {
             "line": {
              "color": "#E5ECF6",
              "width": 0.5
             }
            },
            "type": "barpolar"
           }
          ],
          "carpet": [
           {
            "aaxis": {
             "endlinecolor": "#2a3f5f",
             "gridcolor": "white",
             "linecolor": "white",
             "minorgridcolor": "white",
             "startlinecolor": "#2a3f5f"
            },
            "baxis": {
             "endlinecolor": "#2a3f5f",
             "gridcolor": "white",
             "linecolor": "white",
             "minorgridcolor": "white",
             "startlinecolor": "#2a3f5f"
            },
            "type": "carpet"
           }
          ],
          "choropleth": [
           {
            "colorbar": {
             "outlinewidth": 0,
             "ticks": ""
            },
            "type": "choropleth"
           }
          ],
          "contour": [
           {
            "colorbar": {
             "outlinewidth": 0,
             "ticks": ""
            },
            "colorscale": [
             [
              0,
              "#0d0887"
             ],
             [
              0.1111111111111111,
              "#46039f"
             ],
             [
              0.2222222222222222,
              "#7201a8"
             ],
             [
              0.3333333333333333,
              "#9c179e"
             ],
             [
              0.4444444444444444,
              "#bd3786"
             ],
             [
              0.5555555555555556,
              "#d8576b"
             ],
             [
              0.6666666666666666,
              "#ed7953"
             ],
             [
              0.7777777777777778,
              "#fb9f3a"
             ],
             [
              0.8888888888888888,
              "#fdca26"
             ],
             [
              1,
              "#f0f921"
             ]
            ],
            "type": "contour"
           }
          ],
          "contourcarpet": [
           {
            "colorbar": {
             "outlinewidth": 0,
             "ticks": ""
            },
            "type": "contourcarpet"
           }
          ],
          "heatmap": [
           {
            "colorbar": {
             "outlinewidth": 0,
             "ticks": ""
            },
            "colorscale": [
             [
              0,
              "#0d0887"
             ],
             [
              0.1111111111111111,
              "#46039f"
             ],
             [
              0.2222222222222222,
              "#7201a8"
             ],
             [
              0.3333333333333333,
              "#9c179e"
             ],
             [
              0.4444444444444444,
              "#bd3786"
             ],
             [
              0.5555555555555556,
              "#d8576b"
             ],
             [
              0.6666666666666666,
              "#ed7953"
             ],
             [
              0.7777777777777778,
              "#fb9f3a"
             ],
             [
              0.8888888888888888,
              "#fdca26"
             ],
             [
              1,
              "#f0f921"
             ]
            ],
            "type": "heatmap"
           }
          ],
          "heatmapgl": [
           {
            "colorbar": {
             "outlinewidth": 0,
             "ticks": ""
            },
            "colorscale": [
             [
              0,
              "#0d0887"
             ],
             [
              0.1111111111111111,
              "#46039f"
             ],
             [
              0.2222222222222222,
              "#7201a8"
             ],
             [
              0.3333333333333333,
              "#9c179e"
             ],
             [
              0.4444444444444444,
              "#bd3786"
             ],
             [
              0.5555555555555556,
              "#d8576b"
             ],
             [
              0.6666666666666666,
              "#ed7953"
             ],
             [
              0.7777777777777778,
              "#fb9f3a"
             ],
             [
              0.8888888888888888,
              "#fdca26"
             ],
             [
              1,
              "#f0f921"
             ]
            ],
            "type": "heatmapgl"
           }
          ],
          "histogram": [
           {
            "marker": {
             "colorbar": {
              "outlinewidth": 0,
              "ticks": ""
             }
            },
            "type": "histogram"
           }
          ],
          "histogram2d": [
           {
            "colorbar": {
             "outlinewidth": 0,
             "ticks": ""
            },
            "colorscale": [
             [
              0,
              "#0d0887"
             ],
             [
              0.1111111111111111,
              "#46039f"
             ],
             [
              0.2222222222222222,
              "#7201a8"
             ],
             [
              0.3333333333333333,
              "#9c179e"
             ],
             [
              0.4444444444444444,
              "#bd3786"
             ],
             [
              0.5555555555555556,
              "#d8576b"
             ],
             [
              0.6666666666666666,
              "#ed7953"
             ],
             [
              0.7777777777777778,
              "#fb9f3a"
             ],
             [
              0.8888888888888888,
              "#fdca26"
             ],
             [
              1,
              "#f0f921"
             ]
            ],
            "type": "histogram2d"
           }
          ],
          "histogram2dcontour": [
           {
            "colorbar": {
             "outlinewidth": 0,
             "ticks": ""
            },
            "colorscale": [
             [
              0,
              "#0d0887"
             ],
             [
              0.1111111111111111,
              "#46039f"
             ],
             [
              0.2222222222222222,
              "#7201a8"
             ],
             [
              0.3333333333333333,
              "#9c179e"
             ],
             [
              0.4444444444444444,
              "#bd3786"
             ],
             [
              0.5555555555555556,
              "#d8576b"
             ],
             [
              0.6666666666666666,
              "#ed7953"
             ],
             [
              0.7777777777777778,
              "#fb9f3a"
             ],
             [
              0.8888888888888888,
              "#fdca26"
             ],
             [
              1,
              "#f0f921"
             ]
            ],
            "type": "histogram2dcontour"
           }
          ],
          "mesh3d": [
           {
            "colorbar": {
             "outlinewidth": 0,
             "ticks": ""
            },
            "type": "mesh3d"
           }
          ],
          "parcoords": [
           {
            "line": {
             "colorbar": {
              "outlinewidth": 0,
              "ticks": ""
             }
            },
            "type": "parcoords"
           }
          ],
          "pie": [
           {
            "automargin": true,
            "type": "pie"
           }
          ],
          "scatter": [
           {
            "marker": {
             "colorbar": {
              "outlinewidth": 0,
              "ticks": ""
             }
            },
            "type": "scatter"
           }
          ],
          "scatter3d": [
           {
            "line": {
             "colorbar": {
              "outlinewidth": 0,
              "ticks": ""
             }
            },
            "marker": {
             "colorbar": {
              "outlinewidth": 0,
              "ticks": ""
             }
            },
            "type": "scatter3d"
           }
          ],
          "scattercarpet": [
           {
            "marker": {
             "colorbar": {
              "outlinewidth": 0,
              "ticks": ""
             }
            },
            "type": "scattercarpet"
           }
          ],
          "scattergeo": [
           {
            "marker": {
             "colorbar": {
              "outlinewidth": 0,
              "ticks": ""
             }
            },
            "type": "scattergeo"
           }
          ],
          "scattergl": [
           {
            "marker": {
             "colorbar": {
              "outlinewidth": 0,
              "ticks": ""
             }
            },
            "type": "scattergl"
           }
          ],
          "scattermapbox": [
           {
            "marker": {
             "colorbar": {
              "outlinewidth": 0,
              "ticks": ""
             }
            },
            "type": "scattermapbox"
           }
          ],
          "scatterpolar": [
           {
            "marker": {
             "colorbar": {
              "outlinewidth": 0,
              "ticks": ""
             }
            },
            "type": "scatterpolar"
           }
          ],
          "scatterpolargl": [
           {
            "marker": {
             "colorbar": {
              "outlinewidth": 0,
              "ticks": ""
             }
            },
            "type": "scatterpolargl"
           }
          ],
          "scatterternary": [
           {
            "marker": {
             "colorbar": {
              "outlinewidth": 0,
              "ticks": ""
             }
            },
            "type": "scatterternary"
           }
          ],
          "surface": [
           {
            "colorbar": {
             "outlinewidth": 0,
             "ticks": ""
            },
            "colorscale": [
             [
              0,
              "#0d0887"
             ],
             [
              0.1111111111111111,
              "#46039f"
             ],
             [
              0.2222222222222222,
              "#7201a8"
             ],
             [
              0.3333333333333333,
              "#9c179e"
             ],
             [
              0.4444444444444444,
              "#bd3786"
             ],
             [
              0.5555555555555556,
              "#d8576b"
             ],
             [
              0.6666666666666666,
              "#ed7953"
             ],
             [
              0.7777777777777778,
              "#fb9f3a"
             ],
             [
              0.8888888888888888,
              "#fdca26"
             ],
             [
              1,
              "#f0f921"
             ]
            ],
            "type": "surface"
           }
          ],
          "table": [
           {
            "cells": {
             "fill": {
              "color": "#EBF0F8"
             },
             "line": {
              "color": "white"
             }
            },
            "header": {
             "fill": {
              "color": "#C8D4E3"
             },
             "line": {
              "color": "white"
             }
            },
            "type": "table"
           }
          ]
         },
         "layout": {
          "annotationdefaults": {
           "arrowcolor": "#2a3f5f",
           "arrowhead": 0,
           "arrowwidth": 1
          },
          "autotypenumbers": "strict",
          "coloraxis": {
           "colorbar": {
            "outlinewidth": 0,
            "ticks": ""
           }
          },
          "colorscale": {
           "diverging": [
            [
             0,
             "#8e0152"
            ],
            [
             0.1,
             "#c51b7d"
            ],
            [
             0.2,
             "#de77ae"
            ],
            [
             0.3,
             "#f1b6da"
            ],
            [
             0.4,
             "#fde0ef"
            ],
            [
             0.5,
             "#f7f7f7"
            ],
            [
             0.6,
             "#e6f5d0"
            ],
            [
             0.7,
             "#b8e186"
            ],
            [
             0.8,
             "#7fbc41"
            ],
            [
             0.9,
             "#4d9221"
            ],
            [
             1,
             "#276419"
            ]
           ],
           "sequential": [
            [
             0,
             "#0d0887"
            ],
            [
             0.1111111111111111,
             "#46039f"
            ],
            [
             0.2222222222222222,
             "#7201a8"
            ],
            [
             0.3333333333333333,
             "#9c179e"
            ],
            [
             0.4444444444444444,
             "#bd3786"
            ],
            [
             0.5555555555555556,
             "#d8576b"
            ],
            [
             0.6666666666666666,
             "#ed7953"
            ],
            [
             0.7777777777777778,
             "#fb9f3a"
            ],
            [
             0.8888888888888888,
             "#fdca26"
            ],
            [
             1,
             "#f0f921"
            ]
           ],
           "sequentialminus": [
            [
             0,
             "#0d0887"
            ],
            [
             0.1111111111111111,
             "#46039f"
            ],
            [
             0.2222222222222222,
             "#7201a8"
            ],
            [
             0.3333333333333333,
             "#9c179e"
            ],
            [
             0.4444444444444444,
             "#bd3786"
            ],
            [
             0.5555555555555556,
             "#d8576b"
            ],
            [
             0.6666666666666666,
             "#ed7953"
            ],
            [
             0.7777777777777778,
             "#fb9f3a"
            ],
            [
             0.8888888888888888,
             "#fdca26"
            ],
            [
             1,
             "#f0f921"
            ]
           ]
          },
          "colorway": [
           "#636efa",
           "#EF553B",
           "#00cc96",
           "#ab63fa",
           "#FFA15A",
           "#19d3f3",
           "#FF6692",
           "#B6E880",
           "#FF97FF",
           "#FECB52"
          ],
          "font": {
           "color": "#2a3f5f"
          },
          "geo": {
           "bgcolor": "white",
           "lakecolor": "white",
           "landcolor": "#E5ECF6",
           "showlakes": true,
           "showland": true,
           "subunitcolor": "white"
          },
          "hoverlabel": {
           "align": "left"
          },
          "hovermode": "closest",
          "mapbox": {
           "style": "light"
          },
          "paper_bgcolor": "white",
          "plot_bgcolor": "#E5ECF6",
          "polar": {
           "angularaxis": {
            "gridcolor": "white",
            "linecolor": "white",
            "ticks": ""
           },
           "bgcolor": "#E5ECF6",
           "radialaxis": {
            "gridcolor": "white",
            "linecolor": "white",
            "ticks": ""
           }
          },
          "scene": {
           "xaxis": {
            "backgroundcolor": "#E5ECF6",
            "gridcolor": "white",
            "gridwidth": 2,
            "linecolor": "white",
            "showbackground": true,
            "ticks": "",
            "zerolinecolor": "white"
           },
           "yaxis": {
            "backgroundcolor": "#E5ECF6",
            "gridcolor": "white",
            "gridwidth": 2,
            "linecolor": "white",
            "showbackground": true,
            "ticks": "",
            "zerolinecolor": "white"
           },
           "zaxis": {
            "backgroundcolor": "#E5ECF6",
            "gridcolor": "white",
            "gridwidth": 2,
            "linecolor": "white",
            "showbackground": true,
            "ticks": "",
            "zerolinecolor": "white"
           }
          },
          "shapedefaults": {
           "line": {
            "color": "#2a3f5f"
           }
          },
          "ternary": {
           "aaxis": {
            "gridcolor": "white",
            "linecolor": "white",
            "ticks": ""
           },
           "baxis": {
            "gridcolor": "white",
            "linecolor": "white",
            "ticks": ""
           },
           "bgcolor": "#E5ECF6",
           "caxis": {
            "gridcolor": "white",
            "linecolor": "white",
            "ticks": ""
           }
          },
          "title": {
           "x": 0.05
          },
          "xaxis": {
           "automargin": true,
           "gridcolor": "white",
           "linecolor": "white",
           "ticks": "",
           "title": {
            "standoff": 15
           },
           "zerolinecolor": "white",
           "zerolinewidth": 2
          },
          "yaxis": {
           "automargin": true,
           "gridcolor": "white",
           "linecolor": "white",
           "ticks": "",
           "title": {
            "standoff": 15
           },
           "zerolinecolor": "white",
           "zerolinewidth": 2
          }
         }
        },
        "title": {
         "text": "NDVI values over the years"
        },
        "xaxis": {
         "title": {
          "text": "Time"
         }
        },
        "yaxis": {
         "title": {
          "text": "NDVI"
         }
        }
       }
      },
      "text/html": [
       "<div>                            <div id=\"e9af8418-0998-4815-9f39-7e8e8c7370e6\" class=\"plotly-graph-div\" style=\"height:525px; width:100%;\"></div>            <script type=\"text/javascript\">                require([\"plotly\"], function(Plotly) {                    window.PLOTLYENV=window.PLOTLYENV || {};                                    if (document.getElementById(\"e9af8418-0998-4815-9f39-7e8e8c7370e6\")) {                    Plotly.newPlot(                        \"e9af8418-0998-4815-9f39-7e8e8c7370e6\",                        [{\"mode\": \"lines\", \"name\": \"NDVI-1\", \"type\": \"scatter\", \"x\": [\"Jan  5, 14\", \"Feb 22, 14\", \"Apr 27, 14\", \"May 29, 14\", \"Jun 30, 14\", \"Jul 16, 14\", \"Aug  1, 14\", \"Aug 17, 14\", \"Sep  2, 14\", \"Sep 18, 14\", \"Oct  4, 14\", \"Oct 20, 14\", \"Nov  5, 14\", \"Nov 21, 14\", \"Dec  7, 14\", \"Dec 23, 14\", \"Jan  8, 15\", \"Jan 24, 15\", \"Feb  9, 15\", \"Mar 13, 15\", \"Mar 29, 15\", \"Apr 14, 15\", \"Apr 30, 15\", \"May 16, 15\", \"Jun 17, 15\", \"Jul  3, 15\", \"Jul 19, 15\", \"Aug  4, 15\", \"Aug 20, 15\", \"Sep  5, 15\", \"Sep 21, 15\", \"Oct  7, 15\", \"Oct 23, 15\", \"Nov  8, 15\", \"Nov 24, 15\", \"Dec 10, 15\", \"Dec 26, 15\", \"Jan 11, 16\", \"Feb 12, 16\", \"Feb 28, 16\", \"Mar 31, 16\", \"Apr 16, 16\", \"May  2, 16\", \"May 18, 16\", \"Jun  3, 16\", \"Jul  5, 16\", \"Jul 21, 16\", \"Aug  6, 16\", \"Aug 22, 16\", \"Sep  7, 16\", \"Sep 23, 16\", \"Oct  9, 16\", \"Oct 25, 16\", \"Nov 10, 16\", \"Nov 26, 16\", \"Dec 28, 16\", \"Jan 13, 17\", \"Jan 29, 17\", \"Feb 14, 17\", \"Mar  2, 17\", \"Mar 18, 17\", \"Apr  3, 17\", \"May  5, 17\", \"May 21, 17\", \"Jun 22, 17\", \"Jul  8, 17\", \"Jul 24, 17\", \"Aug  9, 17\", \"Aug 25, 17\", \"Sep 10, 17\", \"Sep 26, 17\", \"Oct 12, 17\", \"Oct 28, 17\", \"Nov 13, 17\", \"Dec 15, 17\", \"Dec 31, 17\", \"Feb  1, 18\", \"Feb 17, 18\", \"Mar  5, 18\", \"Mar 21, 18\", \"Apr 22, 18\", \"May  8, 18\", \"Jun  9, 18\", \"Jun 25, 18\", \"Jul 27, 18\", \"Aug 12, 18\", \"Aug 28, 18\", \"Sep 13, 18\", \"Sep 29, 18\", \"Oct 15, 18\", \"Oct 31, 18\", \"Nov 16, 18\", \"Dec  2, 18\", \"Dec 18, 18\", \"Jan  3, 19\", \"Jan 19, 19\", \"Feb 20, 19\", \"Apr  9, 19\", \"Apr 25, 19\", \"May 11, 19\", \"Jun 12, 19\", \"Jun 28, 19\", \"Jul 14, 19\", \"Jul 30, 19\", \"Aug 15, 19\", \"Aug 31, 19\", \"Sep 16, 19\", \"Oct  2, 19\", \"Oct 18, 19\", \"Nov  3, 19\", \"Nov 19, 19\", \"Dec  5, 19\", \"Jan 22, 20\", \"Feb  7, 20\", \"Apr 11, 20\", \"Apr 27, 20\", \"May 13, 20\", \"May 29, 20\", \"Jun 14, 20\", \"Jul 16, 20\", \"Aug  1, 20\", \"Aug 17, 20\", \"Sep 18, 20\", \"Oct  4, 20\", \"Oct 20, 20\", \"Nov 21, 20\", \"Dec  7, 20\"], \"y\": [0.3694890164529957, 0.5845252484055656, 0.4967170412828512, 0.5513871534912319, 0.5287310599506678, 0.46922725121993414, 0.39096992936468566, 0.3528573049364679, 0.3783057232177961, 0.36120873395400777, 0.2979316611581769, 0.32966983452410525, 0.29065049550693733, 0.3040732209204409, 0.3047051097435411, 0.416165320195627, 0.3769548524320079, 0.5829862833660338, 0.6623081828870142, 0.47018911571007044, 0.5391829688615427, 0.5656479946625735, 0.5624784951414719, 0.21737166585148535, 0.41786710918512865, 0.48736254174834504, 0.4443039255345104, 0.4011395725127754, 0.3721439149602608, 0.34451179017023126, 0.30648941011476905, 0.2656814664764261, 0.29400817471784746, 0.31636567410874117, 0.42653369409851377, 0.35405871642084297, 0.32888997481790594, 0.5010544971730423, 0.5644275384774899, 0.6145164818183197, 0.4504683781429334, 0.6245008904804153, 0.6143934816092057, 0.6025482581396842, 0.5537964787995628, 0.5094670786844234, 0.3798846121109867, 0.40609074492836744, 0.41150295299037665, 0.3817323501117641, 0.5141498592936785, 0.5244285215048953, 0.4963033982978429, 0.4642386802562752, 0.3807985575863258, 0.4082750076722507, 0.2998994259709171, 0.5752313117824746, 0.530713991010314, 0.6357680234571362, 0.633574031201968, 0.6068137456598186, 0.6004669578197778, 0.5484177099664941, 0.48615641257100817, 0.4747870802359455, 0.2620826893276913, 0.4550654607410395, 0.42797507819468517, 0.3480333583617943, 0.36076299596341505, 0.3301794461105486, 0.3798720540749127, 0.5044478838696468, 0.419698977490085, 0.4200421219437658, 0.499830500320343, 0.56130193994569, 0.5199082222731601, 0.6304532570077085, 0.6628411940486243, 0.6121113979403969, 0.44088131802934755, 0.33976736178509226, 0.2424054675150198, 0.3717592090562224, 0.3245969260841499, 0.18886619135881869, 0.29782467703793974, 0.2658184663614684, 0.28346581093476725, 0.2739851964704507, 0.19337989213747395, 0.3411612165756713, 0.46502320938672914, 0.37480052662047625, 0.670455105114281, 0.665683398321839, 0.5218090558398571, 0.6055789898253989, 0.5580604089970455, 0.3703916932814901, 0.4809390262988771, 0.4137767304644325, 0.381042315474274, 0.25969420726773035, 0.3530152109875071, 0.17145613584029096, 0.3703815119496533, 0.36882620209615263, 0.256792552091892, 0.30856310862813885, 0.5437519780301545, 0.4943054276405674, 0.6636594824610081, 0.6135374820677953, 0.5743948340528937, 0.540186868202628, 0.47954926001862724, 0.5139306979004132, 0.48332876865960356, 0.49407855235884063, 0.35922634071153653, 0.38875907882059946, 0.33422138853682515, 0.2005224644139265, 0.3021131297242672]}],                        {\"template\": {\"data\": {\"bar\": [{\"error_x\": {\"color\": \"#2a3f5f\"}, \"error_y\": {\"color\": \"#2a3f5f\"}, \"marker\": {\"line\": {\"color\": \"#E5ECF6\", \"width\": 0.5}}, \"type\": \"bar\"}], \"barpolar\": [{\"marker\": {\"line\": {\"color\": \"#E5ECF6\", \"width\": 0.5}}, \"type\": \"barpolar\"}], \"carpet\": [{\"aaxis\": {\"endlinecolor\": \"#2a3f5f\", \"gridcolor\": \"white\", \"linecolor\": \"white\", \"minorgridcolor\": \"white\", \"startlinecolor\": \"#2a3f5f\"}, \"baxis\": {\"endlinecolor\": \"#2a3f5f\", \"gridcolor\": \"white\", \"linecolor\": \"white\", \"minorgridcolor\": \"white\", \"startlinecolor\": \"#2a3f5f\"}, \"type\": \"carpet\"}], \"choropleth\": [{\"colorbar\": {\"outlinewidth\": 0, \"ticks\": \"\"}, \"type\": \"choropleth\"}], \"contour\": [{\"colorbar\": {\"outlinewidth\": 0, \"ticks\": \"\"}, \"colorscale\": [[0.0, \"#0d0887\"], [0.1111111111111111, \"#46039f\"], [0.2222222222222222, \"#7201a8\"], [0.3333333333333333, \"#9c179e\"], [0.4444444444444444, \"#bd3786\"], [0.5555555555555556, \"#d8576b\"], [0.6666666666666666, \"#ed7953\"], [0.7777777777777778, \"#fb9f3a\"], [0.8888888888888888, \"#fdca26\"], [1.0, \"#f0f921\"]], \"type\": \"contour\"}], \"contourcarpet\": [{\"colorbar\": {\"outlinewidth\": 0, \"ticks\": \"\"}, \"type\": \"contourcarpet\"}], \"heatmap\": [{\"colorbar\": {\"outlinewidth\": 0, \"ticks\": \"\"}, \"colorscale\": [[0.0, \"#0d0887\"], [0.1111111111111111, \"#46039f\"], [0.2222222222222222, \"#7201a8\"], [0.3333333333333333, \"#9c179e\"], [0.4444444444444444, \"#bd3786\"], [0.5555555555555556, \"#d8576b\"], [0.6666666666666666, \"#ed7953\"], [0.7777777777777778, \"#fb9f3a\"], [0.8888888888888888, \"#fdca26\"], [1.0, \"#f0f921\"]], \"type\": \"heatmap\"}], \"heatmapgl\": [{\"colorbar\": {\"outlinewidth\": 0, \"ticks\": \"\"}, \"colorscale\": [[0.0, \"#0d0887\"], [0.1111111111111111, \"#46039f\"], [0.2222222222222222, \"#7201a8\"], [0.3333333333333333, \"#9c179e\"], [0.4444444444444444, \"#bd3786\"], [0.5555555555555556, \"#d8576b\"], [0.6666666666666666, \"#ed7953\"], [0.7777777777777778, \"#fb9f3a\"], [0.8888888888888888, \"#fdca26\"], [1.0, \"#f0f921\"]], \"type\": \"heatmapgl\"}], \"histogram\": [{\"marker\": {\"colorbar\": {\"outlinewidth\": 0, \"ticks\": \"\"}}, \"type\": \"histogram\"}], \"histogram2d\": [{\"colorbar\": {\"outlinewidth\": 0, \"ticks\": \"\"}, \"colorscale\": [[0.0, \"#0d0887\"], [0.1111111111111111, \"#46039f\"], [0.2222222222222222, \"#7201a8\"], [0.3333333333333333, \"#9c179e\"], [0.4444444444444444, \"#bd3786\"], [0.5555555555555556, \"#d8576b\"], [0.6666666666666666, \"#ed7953\"], [0.7777777777777778, \"#fb9f3a\"], [0.8888888888888888, \"#fdca26\"], [1.0, \"#f0f921\"]], \"type\": \"histogram2d\"}], \"histogram2dcontour\": [{\"colorbar\": {\"outlinewidth\": 0, \"ticks\": \"\"}, \"colorscale\": [[0.0, \"#0d0887\"], [0.1111111111111111, \"#46039f\"], [0.2222222222222222, \"#7201a8\"], [0.3333333333333333, \"#9c179e\"], [0.4444444444444444, \"#bd3786\"], [0.5555555555555556, \"#d8576b\"], [0.6666666666666666, \"#ed7953\"], [0.7777777777777778, \"#fb9f3a\"], [0.8888888888888888, \"#fdca26\"], [1.0, \"#f0f921\"]], \"type\": \"histogram2dcontour\"}], \"mesh3d\": [{\"colorbar\": {\"outlinewidth\": 0, \"ticks\": \"\"}, \"type\": \"mesh3d\"}], \"parcoords\": [{\"line\": {\"colorbar\": {\"outlinewidth\": 0, \"ticks\": \"\"}}, \"type\": \"parcoords\"}], \"pie\": [{\"automargin\": true, \"type\": \"pie\"}], \"scatter\": [{\"marker\": {\"colorbar\": {\"outlinewidth\": 0, \"ticks\": \"\"}}, \"type\": \"scatter\"}], \"scatter3d\": [{\"line\": {\"colorbar\": {\"outlinewidth\": 0, \"ticks\": \"\"}}, \"marker\": {\"colorbar\": {\"outlinewidth\": 0, \"ticks\": \"\"}}, \"type\": \"scatter3d\"}], \"scattercarpet\": [{\"marker\": {\"colorbar\": {\"outlinewidth\": 0, \"ticks\": \"\"}}, \"type\": \"scattercarpet\"}], \"scattergeo\": [{\"marker\": {\"colorbar\": {\"outlinewidth\": 0, \"ticks\": \"\"}}, \"type\": \"scattergeo\"}], \"scattergl\": [{\"marker\": {\"colorbar\": {\"outlinewidth\": 0, \"ticks\": \"\"}}, \"type\": \"scattergl\"}], \"scattermapbox\": [{\"marker\": {\"colorbar\": {\"outlinewidth\": 0, \"ticks\": \"\"}}, \"type\": \"scattermapbox\"}], \"scatterpolar\": [{\"marker\": {\"colorbar\": {\"outlinewidth\": 0, \"ticks\": \"\"}}, \"type\": \"scatterpolar\"}], \"scatterpolargl\": [{\"marker\": {\"colorbar\": {\"outlinewidth\": 0, \"ticks\": \"\"}}, \"type\": \"scatterpolargl\"}], \"scatterternary\": [{\"marker\": {\"colorbar\": {\"outlinewidth\": 0, \"ticks\": \"\"}}, \"type\": \"scatterternary\"}], \"surface\": [{\"colorbar\": {\"outlinewidth\": 0, \"ticks\": \"\"}, \"colorscale\": [[0.0, \"#0d0887\"], [0.1111111111111111, \"#46039f\"], [0.2222222222222222, \"#7201a8\"], [0.3333333333333333, \"#9c179e\"], [0.4444444444444444, \"#bd3786\"], [0.5555555555555556, \"#d8576b\"], [0.6666666666666666, \"#ed7953\"], [0.7777777777777778, \"#fb9f3a\"], [0.8888888888888888, \"#fdca26\"], [1.0, \"#f0f921\"]], \"type\": \"surface\"}], \"table\": [{\"cells\": {\"fill\": {\"color\": \"#EBF0F8\"}, \"line\": {\"color\": \"white\"}}, \"header\": {\"fill\": {\"color\": \"#C8D4E3\"}, \"line\": {\"color\": \"white\"}}, \"type\": \"table\"}]}, \"layout\": {\"annotationdefaults\": {\"arrowcolor\": \"#2a3f5f\", \"arrowhead\": 0, \"arrowwidth\": 1}, \"autotypenumbers\": \"strict\", \"coloraxis\": {\"colorbar\": {\"outlinewidth\": 0, \"ticks\": \"\"}}, \"colorscale\": {\"diverging\": [[0, \"#8e0152\"], [0.1, \"#c51b7d\"], [0.2, \"#de77ae\"], [0.3, \"#f1b6da\"], [0.4, \"#fde0ef\"], [0.5, \"#f7f7f7\"], [0.6, \"#e6f5d0\"], [0.7, \"#b8e186\"], [0.8, \"#7fbc41\"], [0.9, \"#4d9221\"], [1, \"#276419\"]], \"sequential\": [[0.0, \"#0d0887\"], [0.1111111111111111, \"#46039f\"], [0.2222222222222222, \"#7201a8\"], [0.3333333333333333, \"#9c179e\"], [0.4444444444444444, \"#bd3786\"], [0.5555555555555556, \"#d8576b\"], [0.6666666666666666, \"#ed7953\"], [0.7777777777777778, \"#fb9f3a\"], [0.8888888888888888, \"#fdca26\"], [1.0, \"#f0f921\"]], \"sequentialminus\": [[0.0, \"#0d0887\"], [0.1111111111111111, \"#46039f\"], [0.2222222222222222, \"#7201a8\"], [0.3333333333333333, \"#9c179e\"], [0.4444444444444444, \"#bd3786\"], [0.5555555555555556, \"#d8576b\"], [0.6666666666666666, \"#ed7953\"], [0.7777777777777778, \"#fb9f3a\"], [0.8888888888888888, \"#fdca26\"], [1.0, \"#f0f921\"]]}, \"colorway\": [\"#636efa\", \"#EF553B\", \"#00cc96\", \"#ab63fa\", \"#FFA15A\", \"#19d3f3\", \"#FF6692\", \"#B6E880\", \"#FF97FF\", \"#FECB52\"], \"font\": {\"color\": \"#2a3f5f\"}, \"geo\": {\"bgcolor\": \"white\", \"lakecolor\": \"white\", \"landcolor\": \"#E5ECF6\", \"showlakes\": true, \"showland\": true, \"subunitcolor\": \"white\"}, \"hoverlabel\": {\"align\": \"left\"}, \"hovermode\": \"closest\", \"mapbox\": {\"style\": \"light\"}, \"paper_bgcolor\": \"white\", \"plot_bgcolor\": \"#E5ECF6\", \"polar\": {\"angularaxis\": {\"gridcolor\": \"white\", \"linecolor\": \"white\", \"ticks\": \"\"}, \"bgcolor\": \"#E5ECF6\", \"radialaxis\": {\"gridcolor\": \"white\", \"linecolor\": \"white\", \"ticks\": \"\"}}, \"scene\": {\"xaxis\": {\"backgroundcolor\": \"#E5ECF6\", \"gridcolor\": \"white\", \"gridwidth\": 2, \"linecolor\": \"white\", \"showbackground\": true, \"ticks\": \"\", \"zerolinecolor\": \"white\"}, \"yaxis\": {\"backgroundcolor\": \"#E5ECF6\", \"gridcolor\": \"white\", \"gridwidth\": 2, \"linecolor\": \"white\", \"showbackground\": true, \"ticks\": \"\", \"zerolinecolor\": \"white\"}, \"zaxis\": {\"backgroundcolor\": \"#E5ECF6\", \"gridcolor\": \"white\", \"gridwidth\": 2, \"linecolor\": \"white\", \"showbackground\": true, \"ticks\": \"\", \"zerolinecolor\": \"white\"}}, \"shapedefaults\": {\"line\": {\"color\": \"#2a3f5f\"}}, \"ternary\": {\"aaxis\": {\"gridcolor\": \"white\", \"linecolor\": \"white\", \"ticks\": \"\"}, \"baxis\": {\"gridcolor\": \"white\", \"linecolor\": \"white\", \"ticks\": \"\"}, \"bgcolor\": \"#E5ECF6\", \"caxis\": {\"gridcolor\": \"white\", \"linecolor\": \"white\", \"ticks\": \"\"}}, \"title\": {\"x\": 0.05}, \"xaxis\": {\"automargin\": true, \"gridcolor\": \"white\", \"linecolor\": \"white\", \"ticks\": \"\", \"title\": {\"standoff\": 15}, \"zerolinecolor\": \"white\", \"zerolinewidth\": 2}, \"yaxis\": {\"automargin\": true, \"gridcolor\": \"white\", \"linecolor\": \"white\", \"ticks\": \"\", \"title\": {\"standoff\": 15}, \"zerolinecolor\": \"white\", \"zerolinewidth\": 2}}}, \"title\": {\"text\": \"NDVI values over the years\"}, \"xaxis\": {\"title\": {\"text\": \"Time\"}}, \"yaxis\": {\"title\": {\"text\": \"NDVI\"}}},                        {\"responsive\": true}                    ).then(function(){\n",
       "                            \n",
       "var gd = document.getElementById('e9af8418-0998-4815-9f39-7e8e8c7370e6');\n",
       "var x = new MutationObserver(function (mutations, observer) {{\n",
       "        var display = window.getComputedStyle(gd).display;\n",
       "        if (!display || display === 'none') {{\n",
       "            console.log([gd, 'removed!']);\n",
       "            Plotly.purge(gd);\n",
       "            observer.disconnect();\n",
       "        }}\n",
       "}});\n",
       "\n",
       "// Listen for the removal of the full notebook cells\n",
       "var notebookContainer = gd.closest('#notebook-container');\n",
       "if (notebookContainer) {{\n",
       "    x.observe(notebookContainer, {childList: true});\n",
       "}}\n",
       "\n",
       "// Listen for the clearing of the current output cell\n",
       "var outputEl = gd.closest('.output');\n",
       "if (outputEl) {{\n",
       "    x.observe(outputEl, {childList: true});\n",
       "}}\n",
       "\n",
       "                        })                };                });            </script>        </div>"
      ]
     },
     "metadata": {},
     "output_type": "display_data"
    },
    {
     "data": {
      "application/vnd.plotly.v1+json": {
       "config": {
        "plotlyServerURL": "https://plot.ly"
       },
       "data": [
        {
         "mode": "lines",
         "name": "NDMI-1",
         "type": "scatter",
         "x": [
          "Jan  5, 14",
          "Feb 22, 14",
          "Apr 27, 14",
          "May 29, 14",
          "Jun 30, 14",
          "Jul 16, 14",
          "Aug  1, 14",
          "Aug 17, 14",
          "Sep  2, 14",
          "Sep 18, 14",
          "Oct  4, 14",
          "Oct 20, 14",
          "Nov  5, 14",
          "Nov 21, 14",
          "Dec  7, 14",
          "Dec 23, 14",
          "Jan  8, 15",
          "Jan 24, 15",
          "Feb  9, 15",
          "Mar 13, 15",
          "Mar 29, 15",
          "Apr 14, 15",
          "Apr 30, 15",
          "May 16, 15",
          "Jun 17, 15",
          "Jul  3, 15",
          "Jul 19, 15",
          "Aug  4, 15",
          "Aug 20, 15",
          "Sep  5, 15",
          "Sep 21, 15",
          "Oct  7, 15",
          "Oct 23, 15",
          "Nov  8, 15",
          "Nov 24, 15",
          "Dec 10, 15",
          "Dec 26, 15",
          "Jan 11, 16",
          "Feb 12, 16",
          "Feb 28, 16",
          "Mar 31, 16",
          "Apr 16, 16",
          "May  2, 16",
          "May 18, 16",
          "Jun  3, 16",
          "Jul  5, 16",
          "Jul 21, 16",
          "Aug  6, 16",
          "Aug 22, 16",
          "Sep  7, 16",
          "Sep 23, 16",
          "Oct  9, 16",
          "Oct 25, 16",
          "Nov 10, 16",
          "Nov 26, 16",
          "Dec 28, 16",
          "Jan 13, 17",
          "Jan 29, 17",
          "Feb 14, 17",
          "Mar  2, 17",
          "Mar 18, 17",
          "Apr  3, 17",
          "May  5, 17",
          "May 21, 17",
          "Jun 22, 17",
          "Jul  8, 17",
          "Jul 24, 17",
          "Aug  9, 17",
          "Aug 25, 17",
          "Sep 10, 17",
          "Sep 26, 17",
          "Oct 12, 17",
          "Oct 28, 17",
          "Nov 13, 17",
          "Dec 15, 17",
          "Dec 31, 17",
          "Feb  1, 18",
          "Feb 17, 18",
          "Mar  5, 18",
          "Mar 21, 18",
          "Apr 22, 18",
          "May  8, 18",
          "Jun  9, 18",
          "Jun 25, 18",
          "Jul 27, 18",
          "Aug 12, 18",
          "Aug 28, 18",
          "Sep 13, 18",
          "Sep 29, 18",
          "Oct 15, 18",
          "Oct 31, 18",
          "Nov 16, 18",
          "Dec  2, 18",
          "Dec 18, 18",
          "Jan  3, 19",
          "Jan 19, 19",
          "Feb 20, 19",
          "Apr  9, 19",
          "Apr 25, 19",
          "May 11, 19",
          "Jun 12, 19",
          "Jun 28, 19",
          "Jul 14, 19",
          "Jul 30, 19",
          "Aug 15, 19",
          "Aug 31, 19",
          "Sep 16, 19",
          "Oct  2, 19",
          "Oct 18, 19",
          "Nov  3, 19",
          "Nov 19, 19",
          "Dec  5, 19",
          "Jan 22, 20",
          "Feb  7, 20",
          "Apr 11, 20",
          "Apr 27, 20",
          "May 13, 20",
          "May 29, 20",
          "Jun 14, 20",
          "Jul 16, 20",
          "Aug  1, 20",
          "Aug 17, 20",
          "Sep 18, 20",
          "Oct  4, 20",
          "Oct 20, 20",
          "Nov 21, 20",
          "Dec  7, 20"
         ],
         "y": [
          -0.10678666424007935,
          0.2731407140768284,
          0.38634158264771684,
          0.19123070502895606,
          0.0771921096138123,
          0.03042413675616207,
          -0.0962374752626619,
          -0.09888589446301922,
          -0.130161290710874,
          -0.16485537773172368,
          0.03815256526381794,
          -0.01743668272971958,
          -0.005838801915707874,
          -0.1980612874630654,
          -0.232843441688121,
          -0.13679685126243485,
          0.1361928528882453,
          0.2191508934530659,
          0.25922641431133286,
          0.23900707186386608,
          0.28206353640863757,
          0.19898124044449023,
          0.12876060652589613,
          0.2747264682354328,
          0.028101702506150003,
          0.00797785668211269,
          -0.020671014710268745,
          -0.05437294664511235,
          -0.11419168233218173,
          -0.1692455314369831,
          -0.17036788193014984,
          -0.12171288957228664,
          -0.24316901832047214,
          -0.22374584772358289,
          -0.1293176494165327,
          -0.1710109848414225,
          -0.15832074145409739,
          -0.041264601428305014,
          0.13549545488758039,
          0.17370643404898287,
          0.2951260805512321,
          0.30848240806341853,
          0.23251120314542376,
          0.22711111048292848,
          0.2144586918940656,
          0.19487844885513525,
          0.3022291583229424,
          0.15378359186814805,
          0.1586402083559509,
          0.1951550533048669,
          0.02908190969540653,
          0.04977454478334029,
          0.10759134199698461,
          -0.016574730973668735,
          -0.04098588457136082,
          0.07655558891869292,
          0.3630759607099267,
          0.207200363882365,
          0.24954535655097854,
          0.36251083457449224,
          0.24982078383876674,
          0.2696796509489355,
          0.24715593137562508,
          0.2626794172402648,
          0.09650379009857378,
          0.08312316292674427,
          0.15740297236499512,
          -0.021931819334098688,
          -0.03720386872065763,
          -0.02231885223469888,
          -0.13722371474915432,
          -0.1643110430737217,
          -0.14495830386502565,
          0.12618921639717626,
          -0.008805886754470627,
          0.05822097476047018,
          -0.005834452954358159,
          0.12888603513339716,
          0.31832608259428924,
          0.34194904564962897,
          0.32692960327454534,
          0.29742981350582126,
          0.21507711996999843,
          0.05424600692077281,
          0.053679346763159934,
          -0.11847830214778549,
          -0.17102199761841155,
          -0.0890127806453356,
          -0.21131321607767944,
          -0.22455000351412224,
          -0.25142184529977996,
          -0.2673396282552721,
          -0.14789748275118206,
          -0.03293141267753518,
          -0.022415974723839986,
          0.2243669571523834,
          0.3039192921821019,
          0.3381374241340276,
          0.3425844908290238,
          0.18314508260195964,
          0.11509719046983886,
          0.1891817539989752,
          0.01367349110590653,
          -0.0029805137532529593,
          0.019177534617516714,
          0.08523472698681762,
          -0.1261605769970276,
          0.18894148789416979,
          -0.16400228155239743,
          -0.11998810711813457,
          -0.10284178672345065,
          -0.2278952871894133,
          0.018748312014724936,
          0.27308721402742975,
          0.32569142803219986,
          0.2612369099690964,
          0.20392404431665942,
          0.11618274948881686,
          0.1129111040278805,
          0.05443416507225737,
          0.03349477271342525,
          -0.0028838515074557196,
          0.047988078675396215,
          -0.13097764428107594,
          -0.16607583021313838,
          -0.07946639329885323,
          -0.23833173807823527
         ]
        }
       ],
       "layout": {
        "template": {
         "data": {
          "bar": [
           {
            "error_x": {
             "color": "#2a3f5f"
            },
            "error_y": {
             "color": "#2a3f5f"
            },
            "marker": {
             "line": {
              "color": "#E5ECF6",
              "width": 0.5
             }
            },
            "type": "bar"
           }
          ],
          "barpolar": [
           {
            "marker": {
             "line": {
              "color": "#E5ECF6",
              "width": 0.5
             }
            },
            "type": "barpolar"
           }
          ],
          "carpet": [
           {
            "aaxis": {
             "endlinecolor": "#2a3f5f",
             "gridcolor": "white",
             "linecolor": "white",
             "minorgridcolor": "white",
             "startlinecolor": "#2a3f5f"
            },
            "baxis": {
             "endlinecolor": "#2a3f5f",
             "gridcolor": "white",
             "linecolor": "white",
             "minorgridcolor": "white",
             "startlinecolor": "#2a3f5f"
            },
            "type": "carpet"
           }
          ],
          "choropleth": [
           {
            "colorbar": {
             "outlinewidth": 0,
             "ticks": ""
            },
            "type": "choropleth"
           }
          ],
          "contour": [
           {
            "colorbar": {
             "outlinewidth": 0,
             "ticks": ""
            },
            "colorscale": [
             [
              0,
              "#0d0887"
             ],
             [
              0.1111111111111111,
              "#46039f"
             ],
             [
              0.2222222222222222,
              "#7201a8"
             ],
             [
              0.3333333333333333,
              "#9c179e"
             ],
             [
              0.4444444444444444,
              "#bd3786"
             ],
             [
              0.5555555555555556,
              "#d8576b"
             ],
             [
              0.6666666666666666,
              "#ed7953"
             ],
             [
              0.7777777777777778,
              "#fb9f3a"
             ],
             [
              0.8888888888888888,
              "#fdca26"
             ],
             [
              1,
              "#f0f921"
             ]
            ],
            "type": "contour"
           }
          ],
          "contourcarpet": [
           {
            "colorbar": {
             "outlinewidth": 0,
             "ticks": ""
            },
            "type": "contourcarpet"
           }
          ],
          "heatmap": [
           {
            "colorbar": {
             "outlinewidth": 0,
             "ticks": ""
            },
            "colorscale": [
             [
              0,
              "#0d0887"
             ],
             [
              0.1111111111111111,
              "#46039f"
             ],
             [
              0.2222222222222222,
              "#7201a8"
             ],
             [
              0.3333333333333333,
              "#9c179e"
             ],
             [
              0.4444444444444444,
              "#bd3786"
             ],
             [
              0.5555555555555556,
              "#d8576b"
             ],
             [
              0.6666666666666666,
              "#ed7953"
             ],
             [
              0.7777777777777778,
              "#fb9f3a"
             ],
             [
              0.8888888888888888,
              "#fdca26"
             ],
             [
              1,
              "#f0f921"
             ]
            ],
            "type": "heatmap"
           }
          ],
          "heatmapgl": [
           {
            "colorbar": {
             "outlinewidth": 0,
             "ticks": ""
            },
            "colorscale": [
             [
              0,
              "#0d0887"
             ],
             [
              0.1111111111111111,
              "#46039f"
             ],
             [
              0.2222222222222222,
              "#7201a8"
             ],
             [
              0.3333333333333333,
              "#9c179e"
             ],
             [
              0.4444444444444444,
              "#bd3786"
             ],
             [
              0.5555555555555556,
              "#d8576b"
             ],
             [
              0.6666666666666666,
              "#ed7953"
             ],
             [
              0.7777777777777778,
              "#fb9f3a"
             ],
             [
              0.8888888888888888,
              "#fdca26"
             ],
             [
              1,
              "#f0f921"
             ]
            ],
            "type": "heatmapgl"
           }
          ],
          "histogram": [
           {
            "marker": {
             "colorbar": {
              "outlinewidth": 0,
              "ticks": ""
             }
            },
            "type": "histogram"
           }
          ],
          "histogram2d": [
           {
            "colorbar": {
             "outlinewidth": 0,
             "ticks": ""
            },
            "colorscale": [
             [
              0,
              "#0d0887"
             ],
             [
              0.1111111111111111,
              "#46039f"
             ],
             [
              0.2222222222222222,
              "#7201a8"
             ],
             [
              0.3333333333333333,
              "#9c179e"
             ],
             [
              0.4444444444444444,
              "#bd3786"
             ],
             [
              0.5555555555555556,
              "#d8576b"
             ],
             [
              0.6666666666666666,
              "#ed7953"
             ],
             [
              0.7777777777777778,
              "#fb9f3a"
             ],
             [
              0.8888888888888888,
              "#fdca26"
             ],
             [
              1,
              "#f0f921"
             ]
            ],
            "type": "histogram2d"
           }
          ],
          "histogram2dcontour": [
           {
            "colorbar": {
             "outlinewidth": 0,
             "ticks": ""
            },
            "colorscale": [
             [
              0,
              "#0d0887"
             ],
             [
              0.1111111111111111,
              "#46039f"
             ],
             [
              0.2222222222222222,
              "#7201a8"
             ],
             [
              0.3333333333333333,
              "#9c179e"
             ],
             [
              0.4444444444444444,
              "#bd3786"
             ],
             [
              0.5555555555555556,
              "#d8576b"
             ],
             [
              0.6666666666666666,
              "#ed7953"
             ],
             [
              0.7777777777777778,
              "#fb9f3a"
             ],
             [
              0.8888888888888888,
              "#fdca26"
             ],
             [
              1,
              "#f0f921"
             ]
            ],
            "type": "histogram2dcontour"
           }
          ],
          "mesh3d": [
           {
            "colorbar": {
             "outlinewidth": 0,
             "ticks": ""
            },
            "type": "mesh3d"
           }
          ],
          "parcoords": [
           {
            "line": {
             "colorbar": {
              "outlinewidth": 0,
              "ticks": ""
             }
            },
            "type": "parcoords"
           }
          ],
          "pie": [
           {
            "automargin": true,
            "type": "pie"
           }
          ],
          "scatter": [
           {
            "marker": {
             "colorbar": {
              "outlinewidth": 0,
              "ticks": ""
             }
            },
            "type": "scatter"
           }
          ],
          "scatter3d": [
           {
            "line": {
             "colorbar": {
              "outlinewidth": 0,
              "ticks": ""
             }
            },
            "marker": {
             "colorbar": {
              "outlinewidth": 0,
              "ticks": ""
             }
            },
            "type": "scatter3d"
           }
          ],
          "scattercarpet": [
           {
            "marker": {
             "colorbar": {
              "outlinewidth": 0,
              "ticks": ""
             }
            },
            "type": "scattercarpet"
           }
          ],
          "scattergeo": [
           {
            "marker": {
             "colorbar": {
              "outlinewidth": 0,
              "ticks": ""
             }
            },
            "type": "scattergeo"
           }
          ],
          "scattergl": [
           {
            "marker": {
             "colorbar": {
              "outlinewidth": 0,
              "ticks": ""
             }
            },
            "type": "scattergl"
           }
          ],
          "scattermapbox": [
           {
            "marker": {
             "colorbar": {
              "outlinewidth": 0,
              "ticks": ""
             }
            },
            "type": "scattermapbox"
           }
          ],
          "scatterpolar": [
           {
            "marker": {
             "colorbar": {
              "outlinewidth": 0,
              "ticks": ""
             }
            },
            "type": "scatterpolar"
           }
          ],
          "scatterpolargl": [
           {
            "marker": {
             "colorbar": {
              "outlinewidth": 0,
              "ticks": ""
             }
            },
            "type": "scatterpolargl"
           }
          ],
          "scatterternary": [
           {
            "marker": {
             "colorbar": {
              "outlinewidth": 0,
              "ticks": ""
             }
            },
            "type": "scatterternary"
           }
          ],
          "surface": [
           {
            "colorbar": {
             "outlinewidth": 0,
             "ticks": ""
            },
            "colorscale": [
             [
              0,
              "#0d0887"
             ],
             [
              0.1111111111111111,
              "#46039f"
             ],
             [
              0.2222222222222222,
              "#7201a8"
             ],
             [
              0.3333333333333333,
              "#9c179e"
             ],
             [
              0.4444444444444444,
              "#bd3786"
             ],
             [
              0.5555555555555556,
              "#d8576b"
             ],
             [
              0.6666666666666666,
              "#ed7953"
             ],
             [
              0.7777777777777778,
              "#fb9f3a"
             ],
             [
              0.8888888888888888,
              "#fdca26"
             ],
             [
              1,
              "#f0f921"
             ]
            ],
            "type": "surface"
           }
          ],
          "table": [
           {
            "cells": {
             "fill": {
              "color": "#EBF0F8"
             },
             "line": {
              "color": "white"
             }
            },
            "header": {
             "fill": {
              "color": "#C8D4E3"
             },
             "line": {
              "color": "white"
             }
            },
            "type": "table"
           }
          ]
         },
         "layout": {
          "annotationdefaults": {
           "arrowcolor": "#2a3f5f",
           "arrowhead": 0,
           "arrowwidth": 1
          },
          "autotypenumbers": "strict",
          "coloraxis": {
           "colorbar": {
            "outlinewidth": 0,
            "ticks": ""
           }
          },
          "colorscale": {
           "diverging": [
            [
             0,
             "#8e0152"
            ],
            [
             0.1,
             "#c51b7d"
            ],
            [
             0.2,
             "#de77ae"
            ],
            [
             0.3,
             "#f1b6da"
            ],
            [
             0.4,
             "#fde0ef"
            ],
            [
             0.5,
             "#f7f7f7"
            ],
            [
             0.6,
             "#e6f5d0"
            ],
            [
             0.7,
             "#b8e186"
            ],
            [
             0.8,
             "#7fbc41"
            ],
            [
             0.9,
             "#4d9221"
            ],
            [
             1,
             "#276419"
            ]
           ],
           "sequential": [
            [
             0,
             "#0d0887"
            ],
            [
             0.1111111111111111,
             "#46039f"
            ],
            [
             0.2222222222222222,
             "#7201a8"
            ],
            [
             0.3333333333333333,
             "#9c179e"
            ],
            [
             0.4444444444444444,
             "#bd3786"
            ],
            [
             0.5555555555555556,
             "#d8576b"
            ],
            [
             0.6666666666666666,
             "#ed7953"
            ],
            [
             0.7777777777777778,
             "#fb9f3a"
            ],
            [
             0.8888888888888888,
             "#fdca26"
            ],
            [
             1,
             "#f0f921"
            ]
           ],
           "sequentialminus": [
            [
             0,
             "#0d0887"
            ],
            [
             0.1111111111111111,
             "#46039f"
            ],
            [
             0.2222222222222222,
             "#7201a8"
            ],
            [
             0.3333333333333333,
             "#9c179e"
            ],
            [
             0.4444444444444444,
             "#bd3786"
            ],
            [
             0.5555555555555556,
             "#d8576b"
            ],
            [
             0.6666666666666666,
             "#ed7953"
            ],
            [
             0.7777777777777778,
             "#fb9f3a"
            ],
            [
             0.8888888888888888,
             "#fdca26"
            ],
            [
             1,
             "#f0f921"
            ]
           ]
          },
          "colorway": [
           "#636efa",
           "#EF553B",
           "#00cc96",
           "#ab63fa",
           "#FFA15A",
           "#19d3f3",
           "#FF6692",
           "#B6E880",
           "#FF97FF",
           "#FECB52"
          ],
          "font": {
           "color": "#2a3f5f"
          },
          "geo": {
           "bgcolor": "white",
           "lakecolor": "white",
           "landcolor": "#E5ECF6",
           "showlakes": true,
           "showland": true,
           "subunitcolor": "white"
          },
          "hoverlabel": {
           "align": "left"
          },
          "hovermode": "closest",
          "mapbox": {
           "style": "light"
          },
          "paper_bgcolor": "white",
          "plot_bgcolor": "#E5ECF6",
          "polar": {
           "angularaxis": {
            "gridcolor": "white",
            "linecolor": "white",
            "ticks": ""
           },
           "bgcolor": "#E5ECF6",
           "radialaxis": {
            "gridcolor": "white",
            "linecolor": "white",
            "ticks": ""
           }
          },
          "scene": {
           "xaxis": {
            "backgroundcolor": "#E5ECF6",
            "gridcolor": "white",
            "gridwidth": 2,
            "linecolor": "white",
            "showbackground": true,
            "ticks": "",
            "zerolinecolor": "white"
           },
           "yaxis": {
            "backgroundcolor": "#E5ECF6",
            "gridcolor": "white",
            "gridwidth": 2,
            "linecolor": "white",
            "showbackground": true,
            "ticks": "",
            "zerolinecolor": "white"
           },
           "zaxis": {
            "backgroundcolor": "#E5ECF6",
            "gridcolor": "white",
            "gridwidth": 2,
            "linecolor": "white",
            "showbackground": true,
            "ticks": "",
            "zerolinecolor": "white"
           }
          },
          "shapedefaults": {
           "line": {
            "color": "#2a3f5f"
           }
          },
          "ternary": {
           "aaxis": {
            "gridcolor": "white",
            "linecolor": "white",
            "ticks": ""
           },
           "baxis": {
            "gridcolor": "white",
            "linecolor": "white",
            "ticks": ""
           },
           "bgcolor": "#E5ECF6",
           "caxis": {
            "gridcolor": "white",
            "linecolor": "white",
            "ticks": ""
           }
          },
          "title": {
           "x": 0.05
          },
          "xaxis": {
           "automargin": true,
           "gridcolor": "white",
           "linecolor": "white",
           "ticks": "",
           "title": {
            "standoff": 15
           },
           "zerolinecolor": "white",
           "zerolinewidth": 2
          },
          "yaxis": {
           "automargin": true,
           "gridcolor": "white",
           "linecolor": "white",
           "ticks": "",
           "title": {
            "standoff": 15
           },
           "zerolinecolor": "white",
           "zerolinewidth": 2
          }
         }
        },
        "title": {
         "text": "NDMI values over the years"
        },
        "xaxis": {
         "title": {
          "text": "Time"
         }
        },
        "yaxis": {
         "title": {
          "text": "NDMI"
         }
        }
       }
      },
      "text/html": [
       "<div>                            <div id=\"066910d8-c280-402d-8e99-4545ec3f17cc\" class=\"plotly-graph-div\" style=\"height:525px; width:100%;\"></div>            <script type=\"text/javascript\">                require([\"plotly\"], function(Plotly) {                    window.PLOTLYENV=window.PLOTLYENV || {};                                    if (document.getElementById(\"066910d8-c280-402d-8e99-4545ec3f17cc\")) {                    Plotly.newPlot(                        \"066910d8-c280-402d-8e99-4545ec3f17cc\",                        [{\"mode\": \"lines\", \"name\": \"NDMI-1\", \"type\": \"scatter\", \"x\": [\"Jan  5, 14\", \"Feb 22, 14\", \"Apr 27, 14\", \"May 29, 14\", \"Jun 30, 14\", \"Jul 16, 14\", \"Aug  1, 14\", \"Aug 17, 14\", \"Sep  2, 14\", \"Sep 18, 14\", \"Oct  4, 14\", \"Oct 20, 14\", \"Nov  5, 14\", \"Nov 21, 14\", \"Dec  7, 14\", \"Dec 23, 14\", \"Jan  8, 15\", \"Jan 24, 15\", \"Feb  9, 15\", \"Mar 13, 15\", \"Mar 29, 15\", \"Apr 14, 15\", \"Apr 30, 15\", \"May 16, 15\", \"Jun 17, 15\", \"Jul  3, 15\", \"Jul 19, 15\", \"Aug  4, 15\", \"Aug 20, 15\", \"Sep  5, 15\", \"Sep 21, 15\", \"Oct  7, 15\", \"Oct 23, 15\", \"Nov  8, 15\", \"Nov 24, 15\", \"Dec 10, 15\", \"Dec 26, 15\", \"Jan 11, 16\", \"Feb 12, 16\", \"Feb 28, 16\", \"Mar 31, 16\", \"Apr 16, 16\", \"May  2, 16\", \"May 18, 16\", \"Jun  3, 16\", \"Jul  5, 16\", \"Jul 21, 16\", \"Aug  6, 16\", \"Aug 22, 16\", \"Sep  7, 16\", \"Sep 23, 16\", \"Oct  9, 16\", \"Oct 25, 16\", \"Nov 10, 16\", \"Nov 26, 16\", \"Dec 28, 16\", \"Jan 13, 17\", \"Jan 29, 17\", \"Feb 14, 17\", \"Mar  2, 17\", \"Mar 18, 17\", \"Apr  3, 17\", \"May  5, 17\", \"May 21, 17\", \"Jun 22, 17\", \"Jul  8, 17\", \"Jul 24, 17\", \"Aug  9, 17\", \"Aug 25, 17\", \"Sep 10, 17\", \"Sep 26, 17\", \"Oct 12, 17\", \"Oct 28, 17\", \"Nov 13, 17\", \"Dec 15, 17\", \"Dec 31, 17\", \"Feb  1, 18\", \"Feb 17, 18\", \"Mar  5, 18\", \"Mar 21, 18\", \"Apr 22, 18\", \"May  8, 18\", \"Jun  9, 18\", \"Jun 25, 18\", \"Jul 27, 18\", \"Aug 12, 18\", \"Aug 28, 18\", \"Sep 13, 18\", \"Sep 29, 18\", \"Oct 15, 18\", \"Oct 31, 18\", \"Nov 16, 18\", \"Dec  2, 18\", \"Dec 18, 18\", \"Jan  3, 19\", \"Jan 19, 19\", \"Feb 20, 19\", \"Apr  9, 19\", \"Apr 25, 19\", \"May 11, 19\", \"Jun 12, 19\", \"Jun 28, 19\", \"Jul 14, 19\", \"Jul 30, 19\", \"Aug 15, 19\", \"Aug 31, 19\", \"Sep 16, 19\", \"Oct  2, 19\", \"Oct 18, 19\", \"Nov  3, 19\", \"Nov 19, 19\", \"Dec  5, 19\", \"Jan 22, 20\", \"Feb  7, 20\", \"Apr 11, 20\", \"Apr 27, 20\", \"May 13, 20\", \"May 29, 20\", \"Jun 14, 20\", \"Jul 16, 20\", \"Aug  1, 20\", \"Aug 17, 20\", \"Sep 18, 20\", \"Oct  4, 20\", \"Oct 20, 20\", \"Nov 21, 20\", \"Dec  7, 20\"], \"y\": [-0.10678666424007935, 0.2731407140768284, 0.38634158264771684, 0.19123070502895606, 0.0771921096138123, 0.03042413675616207, -0.0962374752626619, -0.09888589446301922, -0.130161290710874, -0.16485537773172368, 0.03815256526381794, -0.01743668272971958, -0.005838801915707874, -0.1980612874630654, -0.232843441688121, -0.13679685126243485, 0.1361928528882453, 0.2191508934530659, 0.25922641431133286, 0.23900707186386608, 0.28206353640863757, 0.19898124044449023, 0.12876060652589613, 0.2747264682354328, 0.028101702506150003, 0.00797785668211269, -0.020671014710268745, -0.05437294664511235, -0.11419168233218173, -0.1692455314369831, -0.17036788193014984, -0.12171288957228664, -0.24316901832047214, -0.22374584772358289, -0.1293176494165327, -0.1710109848414225, -0.15832074145409739, -0.041264601428305014, 0.13549545488758039, 0.17370643404898287, 0.2951260805512321, 0.30848240806341853, 0.23251120314542376, 0.22711111048292848, 0.2144586918940656, 0.19487844885513525, 0.3022291583229424, 0.15378359186814805, 0.1586402083559509, 0.1951550533048669, 0.02908190969540653, 0.04977454478334029, 0.10759134199698461, -0.016574730973668735, -0.04098588457136082, 0.07655558891869292, 0.3630759607099267, 0.207200363882365, 0.24954535655097854, 0.36251083457449224, 0.24982078383876674, 0.2696796509489355, 0.24715593137562508, 0.2626794172402648, 0.09650379009857378, 0.08312316292674427, 0.15740297236499512, -0.021931819334098688, -0.03720386872065763, -0.02231885223469888, -0.13722371474915432, -0.1643110430737217, -0.14495830386502565, 0.12618921639717626, -0.008805886754470627, 0.05822097476047018, -0.005834452954358159, 0.12888603513339716, 0.31832608259428924, 0.34194904564962897, 0.32692960327454534, 0.29742981350582126, 0.21507711996999843, 0.05424600692077281, 0.053679346763159934, -0.11847830214778549, -0.17102199761841155, -0.0890127806453356, -0.21131321607767944, -0.22455000351412224, -0.25142184529977996, -0.2673396282552721, -0.14789748275118206, -0.03293141267753518, -0.022415974723839986, 0.2243669571523834, 0.3039192921821019, 0.3381374241340276, 0.3425844908290238, 0.18314508260195964, 0.11509719046983886, 0.1891817539989752, 0.01367349110590653, -0.0029805137532529593, 0.019177534617516714, 0.08523472698681762, -0.1261605769970276, 0.18894148789416979, -0.16400228155239743, -0.11998810711813457, -0.10284178672345065, -0.2278952871894133, 0.018748312014724936, 0.27308721402742975, 0.32569142803219986, 0.2612369099690964, 0.20392404431665942, 0.11618274948881686, 0.1129111040278805, 0.05443416507225737, 0.03349477271342525, -0.0028838515074557196, 0.047988078675396215, -0.13097764428107594, -0.16607583021313838, -0.07946639329885323, -0.23833173807823527]}],                        {\"template\": {\"data\": {\"bar\": [{\"error_x\": {\"color\": \"#2a3f5f\"}, \"error_y\": {\"color\": \"#2a3f5f\"}, \"marker\": {\"line\": {\"color\": \"#E5ECF6\", \"width\": 0.5}}, \"type\": \"bar\"}], \"barpolar\": [{\"marker\": {\"line\": {\"color\": \"#E5ECF6\", \"width\": 0.5}}, \"type\": \"barpolar\"}], \"carpet\": [{\"aaxis\": {\"endlinecolor\": \"#2a3f5f\", \"gridcolor\": \"white\", \"linecolor\": \"white\", \"minorgridcolor\": \"white\", \"startlinecolor\": \"#2a3f5f\"}, \"baxis\": {\"endlinecolor\": \"#2a3f5f\", \"gridcolor\": \"white\", \"linecolor\": \"white\", \"minorgridcolor\": \"white\", \"startlinecolor\": \"#2a3f5f\"}, \"type\": \"carpet\"}], \"choropleth\": [{\"colorbar\": {\"outlinewidth\": 0, \"ticks\": \"\"}, \"type\": \"choropleth\"}], \"contour\": [{\"colorbar\": {\"outlinewidth\": 0, \"ticks\": \"\"}, \"colorscale\": [[0.0, \"#0d0887\"], [0.1111111111111111, \"#46039f\"], [0.2222222222222222, \"#7201a8\"], [0.3333333333333333, \"#9c179e\"], [0.4444444444444444, \"#bd3786\"], [0.5555555555555556, \"#d8576b\"], [0.6666666666666666, \"#ed7953\"], [0.7777777777777778, \"#fb9f3a\"], [0.8888888888888888, \"#fdca26\"], [1.0, \"#f0f921\"]], \"type\": \"contour\"}], \"contourcarpet\": [{\"colorbar\": {\"outlinewidth\": 0, \"ticks\": \"\"}, \"type\": \"contourcarpet\"}], \"heatmap\": [{\"colorbar\": {\"outlinewidth\": 0, \"ticks\": \"\"}, \"colorscale\": [[0.0, \"#0d0887\"], [0.1111111111111111, \"#46039f\"], [0.2222222222222222, \"#7201a8\"], [0.3333333333333333, \"#9c179e\"], [0.4444444444444444, \"#bd3786\"], [0.5555555555555556, \"#d8576b\"], [0.6666666666666666, \"#ed7953\"], [0.7777777777777778, \"#fb9f3a\"], [0.8888888888888888, \"#fdca26\"], [1.0, \"#f0f921\"]], \"type\": \"heatmap\"}], \"heatmapgl\": [{\"colorbar\": {\"outlinewidth\": 0, \"ticks\": \"\"}, \"colorscale\": [[0.0, \"#0d0887\"], [0.1111111111111111, \"#46039f\"], [0.2222222222222222, \"#7201a8\"], [0.3333333333333333, \"#9c179e\"], [0.4444444444444444, \"#bd3786\"], [0.5555555555555556, \"#d8576b\"], [0.6666666666666666, \"#ed7953\"], [0.7777777777777778, \"#fb9f3a\"], [0.8888888888888888, \"#fdca26\"], [1.0, \"#f0f921\"]], \"type\": \"heatmapgl\"}], \"histogram\": [{\"marker\": {\"colorbar\": {\"outlinewidth\": 0, \"ticks\": \"\"}}, \"type\": \"histogram\"}], \"histogram2d\": [{\"colorbar\": {\"outlinewidth\": 0, \"ticks\": \"\"}, \"colorscale\": [[0.0, \"#0d0887\"], [0.1111111111111111, \"#46039f\"], [0.2222222222222222, \"#7201a8\"], [0.3333333333333333, \"#9c179e\"], [0.4444444444444444, \"#bd3786\"], [0.5555555555555556, \"#d8576b\"], [0.6666666666666666, \"#ed7953\"], [0.7777777777777778, \"#fb9f3a\"], [0.8888888888888888, \"#fdca26\"], [1.0, \"#f0f921\"]], \"type\": \"histogram2d\"}], \"histogram2dcontour\": [{\"colorbar\": {\"outlinewidth\": 0, \"ticks\": \"\"}, \"colorscale\": [[0.0, \"#0d0887\"], [0.1111111111111111, \"#46039f\"], [0.2222222222222222, \"#7201a8\"], [0.3333333333333333, \"#9c179e\"], [0.4444444444444444, \"#bd3786\"], [0.5555555555555556, \"#d8576b\"], [0.6666666666666666, \"#ed7953\"], [0.7777777777777778, \"#fb9f3a\"], [0.8888888888888888, \"#fdca26\"], [1.0, \"#f0f921\"]], \"type\": \"histogram2dcontour\"}], \"mesh3d\": [{\"colorbar\": {\"outlinewidth\": 0, \"ticks\": \"\"}, \"type\": \"mesh3d\"}], \"parcoords\": [{\"line\": {\"colorbar\": {\"outlinewidth\": 0, \"ticks\": \"\"}}, \"type\": \"parcoords\"}], \"pie\": [{\"automargin\": true, \"type\": \"pie\"}], \"scatter\": [{\"marker\": {\"colorbar\": {\"outlinewidth\": 0, \"ticks\": \"\"}}, \"type\": \"scatter\"}], \"scatter3d\": [{\"line\": {\"colorbar\": {\"outlinewidth\": 0, \"ticks\": \"\"}}, \"marker\": {\"colorbar\": {\"outlinewidth\": 0, \"ticks\": \"\"}}, \"type\": \"scatter3d\"}], \"scattercarpet\": [{\"marker\": {\"colorbar\": {\"outlinewidth\": 0, \"ticks\": \"\"}}, \"type\": \"scattercarpet\"}], \"scattergeo\": [{\"marker\": {\"colorbar\": {\"outlinewidth\": 0, \"ticks\": \"\"}}, \"type\": \"scattergeo\"}], \"scattergl\": [{\"marker\": {\"colorbar\": {\"outlinewidth\": 0, \"ticks\": \"\"}}, \"type\": \"scattergl\"}], \"scattermapbox\": [{\"marker\": {\"colorbar\": {\"outlinewidth\": 0, \"ticks\": \"\"}}, \"type\": \"scattermapbox\"}], \"scatterpolar\": [{\"marker\": {\"colorbar\": {\"outlinewidth\": 0, \"ticks\": \"\"}}, \"type\": \"scatterpolar\"}], \"scatterpolargl\": [{\"marker\": {\"colorbar\": {\"outlinewidth\": 0, \"ticks\": \"\"}}, \"type\": \"scatterpolargl\"}], \"scatterternary\": [{\"marker\": {\"colorbar\": {\"outlinewidth\": 0, \"ticks\": \"\"}}, \"type\": \"scatterternary\"}], \"surface\": [{\"colorbar\": {\"outlinewidth\": 0, \"ticks\": \"\"}, \"colorscale\": [[0.0, \"#0d0887\"], [0.1111111111111111, \"#46039f\"], [0.2222222222222222, \"#7201a8\"], [0.3333333333333333, \"#9c179e\"], [0.4444444444444444, \"#bd3786\"], [0.5555555555555556, \"#d8576b\"], [0.6666666666666666, \"#ed7953\"], [0.7777777777777778, \"#fb9f3a\"], [0.8888888888888888, \"#fdca26\"], [1.0, \"#f0f921\"]], \"type\": \"surface\"}], \"table\": [{\"cells\": {\"fill\": {\"color\": \"#EBF0F8\"}, \"line\": {\"color\": \"white\"}}, \"header\": {\"fill\": {\"color\": \"#C8D4E3\"}, \"line\": {\"color\": \"white\"}}, \"type\": \"table\"}]}, \"layout\": {\"annotationdefaults\": {\"arrowcolor\": \"#2a3f5f\", \"arrowhead\": 0, \"arrowwidth\": 1}, \"autotypenumbers\": \"strict\", \"coloraxis\": {\"colorbar\": {\"outlinewidth\": 0, \"ticks\": \"\"}}, \"colorscale\": {\"diverging\": [[0, \"#8e0152\"], [0.1, \"#c51b7d\"], [0.2, \"#de77ae\"], [0.3, \"#f1b6da\"], [0.4, \"#fde0ef\"], [0.5, \"#f7f7f7\"], [0.6, \"#e6f5d0\"], [0.7, \"#b8e186\"], [0.8, \"#7fbc41\"], [0.9, \"#4d9221\"], [1, \"#276419\"]], \"sequential\": [[0.0, \"#0d0887\"], [0.1111111111111111, \"#46039f\"], [0.2222222222222222, \"#7201a8\"], [0.3333333333333333, \"#9c179e\"], [0.4444444444444444, \"#bd3786\"], [0.5555555555555556, \"#d8576b\"], [0.6666666666666666, \"#ed7953\"], [0.7777777777777778, \"#fb9f3a\"], [0.8888888888888888, \"#fdca26\"], [1.0, \"#f0f921\"]], \"sequentialminus\": [[0.0, \"#0d0887\"], [0.1111111111111111, \"#46039f\"], [0.2222222222222222, \"#7201a8\"], [0.3333333333333333, \"#9c179e\"], [0.4444444444444444, \"#bd3786\"], [0.5555555555555556, \"#d8576b\"], [0.6666666666666666, \"#ed7953\"], [0.7777777777777778, \"#fb9f3a\"], [0.8888888888888888, \"#fdca26\"], [1.0, \"#f0f921\"]]}, \"colorway\": [\"#636efa\", \"#EF553B\", \"#00cc96\", \"#ab63fa\", \"#FFA15A\", \"#19d3f3\", \"#FF6692\", \"#B6E880\", \"#FF97FF\", \"#FECB52\"], \"font\": {\"color\": \"#2a3f5f\"}, \"geo\": {\"bgcolor\": \"white\", \"lakecolor\": \"white\", \"landcolor\": \"#E5ECF6\", \"showlakes\": true, \"showland\": true, \"subunitcolor\": \"white\"}, \"hoverlabel\": {\"align\": \"left\"}, \"hovermode\": \"closest\", \"mapbox\": {\"style\": \"light\"}, \"paper_bgcolor\": \"white\", \"plot_bgcolor\": \"#E5ECF6\", \"polar\": {\"angularaxis\": {\"gridcolor\": \"white\", \"linecolor\": \"white\", \"ticks\": \"\"}, \"bgcolor\": \"#E5ECF6\", \"radialaxis\": {\"gridcolor\": \"white\", \"linecolor\": \"white\", \"ticks\": \"\"}}, \"scene\": {\"xaxis\": {\"backgroundcolor\": \"#E5ECF6\", \"gridcolor\": \"white\", \"gridwidth\": 2, \"linecolor\": \"white\", \"showbackground\": true, \"ticks\": \"\", \"zerolinecolor\": \"white\"}, \"yaxis\": {\"backgroundcolor\": \"#E5ECF6\", \"gridcolor\": \"white\", \"gridwidth\": 2, \"linecolor\": \"white\", \"showbackground\": true, \"ticks\": \"\", \"zerolinecolor\": \"white\"}, \"zaxis\": {\"backgroundcolor\": \"#E5ECF6\", \"gridcolor\": \"white\", \"gridwidth\": 2, \"linecolor\": \"white\", \"showbackground\": true, \"ticks\": \"\", \"zerolinecolor\": \"white\"}}, \"shapedefaults\": {\"line\": {\"color\": \"#2a3f5f\"}}, \"ternary\": {\"aaxis\": {\"gridcolor\": \"white\", \"linecolor\": \"white\", \"ticks\": \"\"}, \"baxis\": {\"gridcolor\": \"white\", \"linecolor\": \"white\", \"ticks\": \"\"}, \"bgcolor\": \"#E5ECF6\", \"caxis\": {\"gridcolor\": \"white\", \"linecolor\": \"white\", \"ticks\": \"\"}}, \"title\": {\"x\": 0.05}, \"xaxis\": {\"automargin\": true, \"gridcolor\": \"white\", \"linecolor\": \"white\", \"ticks\": \"\", \"title\": {\"standoff\": 15}, \"zerolinecolor\": \"white\", \"zerolinewidth\": 2}, \"yaxis\": {\"automargin\": true, \"gridcolor\": \"white\", \"linecolor\": \"white\", \"ticks\": \"\", \"title\": {\"standoff\": 15}, \"zerolinecolor\": \"white\", \"zerolinewidth\": 2}}}, \"title\": {\"text\": \"NDMI values over the years\"}, \"xaxis\": {\"title\": {\"text\": \"Time\"}}, \"yaxis\": {\"title\": {\"text\": \"NDMI\"}}},                        {\"responsive\": true}                    ).then(function(){\n",
       "                            \n",
       "var gd = document.getElementById('066910d8-c280-402d-8e99-4545ec3f17cc');\n",
       "var x = new MutationObserver(function (mutations, observer) {{\n",
       "        var display = window.getComputedStyle(gd).display;\n",
       "        if (!display || display === 'none') {{\n",
       "            console.log([gd, 'removed!']);\n",
       "            Plotly.purge(gd);\n",
       "            observer.disconnect();\n",
       "        }}\n",
       "}});\n",
       "\n",
       "// Listen for the removal of the full notebook cells\n",
       "var notebookContainer = gd.closest('#notebook-container');\n",
       "if (notebookContainer) {{\n",
       "    x.observe(notebookContainer, {childList: true});\n",
       "}}\n",
       "\n",
       "// Listen for the clearing of the current output cell\n",
       "var outputEl = gd.closest('.output');\n",
       "if (outputEl) {{\n",
       "    x.observe(outputEl, {childList: true});\n",
       "}}\n",
       "\n",
       "                        })                };                });            </script>        </div>"
      ]
     },
     "metadata": {},
     "output_type": "display_data"
    },
    {
     "data": {
      "application/vnd.plotly.v1+json": {
       "config": {
        "plotlyServerURL": "https://plot.ly"
       },
       "data": [
        {
         "mode": "lines",
         "name": "pH-1",
         "type": "scatter",
         "x": [
          "Jan  5, 14",
          "Jan 21, 14",
          "Feb  6, 14",
          "Feb 22, 14",
          "Apr 27, 14",
          "May 13, 14",
          "May 29, 14",
          "Jun 14, 14",
          "Jun 30, 14",
          "Jul 16, 14",
          "Aug  1, 14",
          "Aug 17, 14",
          "Sep  2, 14",
          "Sep 18, 14",
          "Oct  4, 14",
          "Oct 20, 14",
          "Nov  5, 14",
          "Nov 21, 14",
          "Dec  7, 14",
          "Dec 23, 14",
          "Jan  8, 15",
          "Jan 24, 15",
          "Feb  9, 15",
          "Feb 25, 15",
          "Mar 13, 15",
          "Mar 29, 15",
          "Apr 14, 15",
          "Apr 30, 15",
          "May 16, 15",
          "Jun 17, 15",
          "Jul  3, 15",
          "Jul 19, 15",
          "Aug  4, 15",
          "Aug 20, 15",
          "Sep  5, 15",
          "Sep 21, 15",
          "Oct  7, 15",
          "Oct 23, 15",
          "Nov  8, 15",
          "Nov 24, 15",
          "Dec 10, 15",
          "Dec 26, 15",
          "Jan 11, 16",
          "Jan 27, 16",
          "Feb 12, 16",
          "Feb 28, 16",
          "Mar 15, 16",
          "Mar 31, 16",
          "Apr 16, 16",
          "May  2, 16",
          "May 18, 16",
          "Jun  3, 16",
          "Jul  5, 16",
          "Jul 21, 16",
          "Aug  6, 16",
          "Aug 22, 16",
          "Sep  7, 16",
          "Sep 23, 16",
          "Oct  9, 16",
          "Oct 25, 16",
          "Nov 10, 16",
          "Nov 26, 16",
          "Dec 12, 16",
          "Dec 28, 16",
          "Jan 13, 17",
          "Jan 29, 17",
          "Feb 14, 17",
          "Mar  2, 17",
          "Mar 18, 17",
          "Apr  3, 17",
          "Apr 19, 17",
          "May  5, 17",
          "May 21, 17",
          "Jun  6, 17",
          "Jun 22, 17",
          "Jul  8, 17",
          "Jul 24, 17",
          "Aug  9, 17",
          "Aug 25, 17",
          "Sep 10, 17",
          "Sep 26, 17",
          "Oct 12, 17",
          "Oct 28, 17",
          "Nov 13, 17",
          "Nov 29, 17",
          "Dec 15, 17",
          "Dec 31, 17",
          "Jan 16, 18",
          "Feb  1, 18",
          "Feb 17, 18",
          "Mar  5, 18",
          "Mar 21, 18",
          "Apr 22, 18",
          "May  8, 18",
          "May 24, 18",
          "Jun  9, 18",
          "Jun 25, 18",
          "Jul 11, 18",
          "Jul 27, 18",
          "Aug 12, 18",
          "Aug 28, 18",
          "Sep 13, 18",
          "Sep 29, 18",
          "Oct 15, 18",
          "Oct 31, 18",
          "Nov 16, 18",
          "Dec  2, 18",
          "Dec 18, 18",
          "Jan  3, 19",
          "Jan 19, 19",
          "Feb 20, 19",
          "Mar  8, 19",
          "Mar 24, 19",
          "Apr  9, 19",
          "Apr 25, 19",
          "May 11, 19",
          "May 27, 19",
          "Jun 12, 19",
          "Jun 28, 19",
          "Jul 14, 19",
          "Jul 30, 19",
          "Aug 15, 19",
          "Aug 31, 19",
          "Sep 16, 19",
          "Oct  2, 19",
          "Oct 18, 19",
          "Nov  3, 19",
          "Nov 19, 19",
          "Dec  5, 19",
          "Jan  6, 20",
          "Jan 22, 20",
          "Feb  7, 20",
          "Mar 10, 20",
          "Mar 26, 20",
          "Apr 11, 20",
          "Apr 27, 20",
          "May 13, 20",
          "May 29, 20",
          "Jun 14, 20",
          "Jun 30, 20",
          "Jul 16, 20",
          "Aug  1, 20",
          "Aug 17, 20",
          "Sep  2, 20",
          "Sep 18, 20",
          "Oct  4, 20",
          "Oct 20, 20",
          "Nov 21, 20",
          "Dec  7, 20"
         ],
         "y": [
          7.862412187781691,
          8.146229939052285,
          7.9937564935687515,
          7.871055759833043,
          7.907235593974988,
          7.985820369580284,
          7.892257784692628,
          8.190674043903211,
          7.861688676332968,
          7.86237868542984,
          7.858733985324245,
          7.873426094229427,
          7.856003478594166,
          7.855191185772191,
          7.925509874847945,
          7.913921761029473,
          7.956714417858926,
          7.858917650272847,
          7.855050616783953,
          7.855510404626673,
          7.999358531592591,
          7.887755817171954,
          7.863380225147503,
          7.915676371720291,
          7.907999120424841,
          7.877512755246934,
          7.9002325133898,
          7.860366720092314,
          7.96118178430327,
          7.880564135574296,
          7.861289589252579,
          7.861476790841832,
          7.862769470405682,
          7.866346280148289,
          7.863407313148499,
          7.864515800462265,
          7.9472473895289495,
          7.864074128570374,
          7.91205076386443,
          7.854743338960004,
          7.856277785615243,
          7.860826223193361,
          7.858752117098968,
          7.924226865604622,
          7.863229699571297,
          7.895707423832611,
          8.114705290474856,
          7.985338292774799,
          7.8682946982408035,
          7.867546161703609,
          7.866476432683529,
          7.877461873211983,
          7.871405660846537,
          7.8899453520318135,
          7.890353963956881,
          7.92350369380769,
          7.888540226406516,
          7.859335752857156,
          7.8593535163250445,
          7.901472754383589,
          7.858723392112774,
          7.864843335290889,
          8.025522284826181,
          7.896336269320795,
          8.011755800082609,
          7.869890647956069,
          7.8737881012189455,
          7.873539609831859,
          7.864634274286082,
          7.870831895826248,
          8.09392670555498,
          7.869734977718891,
          7.892846288031691,
          7.9243554909463985,
          7.867992296772962,
          7.867120915900042,
          7.908773823476992,
          7.859518266542679,
          7.861841306079497,
          7.898286948649308,
          7.85451461244556,
          7.855272442509936,
          7.855011273222561,
          7.903309631583942,
          7.997130552520512,
          7.8647375734411735,
          7.920290932608698,
          8.135329369717601,
          7.858496150251433,
          7.86350032887843,
          7.883682462508303,
          7.871754618155118,
          7.868289129503186,
          7.9121566061265005,
          7.988326154110672,
          7.880815873721137,
          7.8850420945480275,
          8.061331235317232,
          7.930686488841764,
          7.857885251425722,
          7.855000080410888,
          7.895944534114991,
          7.876240553048694,
          7.871311241155409,
          7.853698543720369,
          7.852828157147996,
          7.900392963129506,
          7.867112133763934,
          7.868161020515179,
          7.998991188357899,
          7.866767165851249,
          8.158711209013576,
          8.00857530664992,
          7.867241634226716,
          7.957192555436154,
          7.861117468577177,
          7.932263754702009,
          7.865133343470915,
          7.893382820361733,
          7.861195221989776,
          7.8794217333378365,
          7.875899714390933,
          7.895009866138851,
          7.94858435831579,
          7.968149448292164,
          7.854562071899174,
          7.869936647972451,
          7.876424302496035,
          7.852242708461195,
          7.934065019283839,
          7.864685711797309,
          7.951478257413901,
          7.972286000673396,
          7.900340080122532,
          7.865164036360084,
          7.871383597054568,
          7.866706101195553,
          7.862033283787429,
          7.87818685663575,
          7.96496087048924,
          7.860892622915244,
          7.864612916535827,
          7.857906497187079,
          8.103954278688736,
          7.935038380007297,
          7.85725287147954,
          7.882157706939619,
          7.981685948608433,
          7.855098350378289
         ]
        }
       ],
       "layout": {
        "template": {
         "data": {
          "bar": [
           {
            "error_x": {
             "color": "#2a3f5f"
            },
            "error_y": {
             "color": "#2a3f5f"
            },
            "marker": {
             "line": {
              "color": "#E5ECF6",
              "width": 0.5
             }
            },
            "type": "bar"
           }
          ],
          "barpolar": [
           {
            "marker": {
             "line": {
              "color": "#E5ECF6",
              "width": 0.5
             }
            },
            "type": "barpolar"
           }
          ],
          "carpet": [
           {
            "aaxis": {
             "endlinecolor": "#2a3f5f",
             "gridcolor": "white",
             "linecolor": "white",
             "minorgridcolor": "white",
             "startlinecolor": "#2a3f5f"
            },
            "baxis": {
             "endlinecolor": "#2a3f5f",
             "gridcolor": "white",
             "linecolor": "white",
             "minorgridcolor": "white",
             "startlinecolor": "#2a3f5f"
            },
            "type": "carpet"
           }
          ],
          "choropleth": [
           {
            "colorbar": {
             "outlinewidth": 0,
             "ticks": ""
            },
            "type": "choropleth"
           }
          ],
          "contour": [
           {
            "colorbar": {
             "outlinewidth": 0,
             "ticks": ""
            },
            "colorscale": [
             [
              0,
              "#0d0887"
             ],
             [
              0.1111111111111111,
              "#46039f"
             ],
             [
              0.2222222222222222,
              "#7201a8"
             ],
             [
              0.3333333333333333,
              "#9c179e"
             ],
             [
              0.4444444444444444,
              "#bd3786"
             ],
             [
              0.5555555555555556,
              "#d8576b"
             ],
             [
              0.6666666666666666,
              "#ed7953"
             ],
             [
              0.7777777777777778,
              "#fb9f3a"
             ],
             [
              0.8888888888888888,
              "#fdca26"
             ],
             [
              1,
              "#f0f921"
             ]
            ],
            "type": "contour"
           }
          ],
          "contourcarpet": [
           {
            "colorbar": {
             "outlinewidth": 0,
             "ticks": ""
            },
            "type": "contourcarpet"
           }
          ],
          "heatmap": [
           {
            "colorbar": {
             "outlinewidth": 0,
             "ticks": ""
            },
            "colorscale": [
             [
              0,
              "#0d0887"
             ],
             [
              0.1111111111111111,
              "#46039f"
             ],
             [
              0.2222222222222222,
              "#7201a8"
             ],
             [
              0.3333333333333333,
              "#9c179e"
             ],
             [
              0.4444444444444444,
              "#bd3786"
             ],
             [
              0.5555555555555556,
              "#d8576b"
             ],
             [
              0.6666666666666666,
              "#ed7953"
             ],
             [
              0.7777777777777778,
              "#fb9f3a"
             ],
             [
              0.8888888888888888,
              "#fdca26"
             ],
             [
              1,
              "#f0f921"
             ]
            ],
            "type": "heatmap"
           }
          ],
          "heatmapgl": [
           {
            "colorbar": {
             "outlinewidth": 0,
             "ticks": ""
            },
            "colorscale": [
             [
              0,
              "#0d0887"
             ],
             [
              0.1111111111111111,
              "#46039f"
             ],
             [
              0.2222222222222222,
              "#7201a8"
             ],
             [
              0.3333333333333333,
              "#9c179e"
             ],
             [
              0.4444444444444444,
              "#bd3786"
             ],
             [
              0.5555555555555556,
              "#d8576b"
             ],
             [
              0.6666666666666666,
              "#ed7953"
             ],
             [
              0.7777777777777778,
              "#fb9f3a"
             ],
             [
              0.8888888888888888,
              "#fdca26"
             ],
             [
              1,
              "#f0f921"
             ]
            ],
            "type": "heatmapgl"
           }
          ],
          "histogram": [
           {
            "marker": {
             "colorbar": {
              "outlinewidth": 0,
              "ticks": ""
             }
            },
            "type": "histogram"
           }
          ],
          "histogram2d": [
           {
            "colorbar": {
             "outlinewidth": 0,
             "ticks": ""
            },
            "colorscale": [
             [
              0,
              "#0d0887"
             ],
             [
              0.1111111111111111,
              "#46039f"
             ],
             [
              0.2222222222222222,
              "#7201a8"
             ],
             [
              0.3333333333333333,
              "#9c179e"
             ],
             [
              0.4444444444444444,
              "#bd3786"
             ],
             [
              0.5555555555555556,
              "#d8576b"
             ],
             [
              0.6666666666666666,
              "#ed7953"
             ],
             [
              0.7777777777777778,
              "#fb9f3a"
             ],
             [
              0.8888888888888888,
              "#fdca26"
             ],
             [
              1,
              "#f0f921"
             ]
            ],
            "type": "histogram2d"
           }
          ],
          "histogram2dcontour": [
           {
            "colorbar": {
             "outlinewidth": 0,
             "ticks": ""
            },
            "colorscale": [
             [
              0,
              "#0d0887"
             ],
             [
              0.1111111111111111,
              "#46039f"
             ],
             [
              0.2222222222222222,
              "#7201a8"
             ],
             [
              0.3333333333333333,
              "#9c179e"
             ],
             [
              0.4444444444444444,
              "#bd3786"
             ],
             [
              0.5555555555555556,
              "#d8576b"
             ],
             [
              0.6666666666666666,
              "#ed7953"
             ],
             [
              0.7777777777777778,
              "#fb9f3a"
             ],
             [
              0.8888888888888888,
              "#fdca26"
             ],
             [
              1,
              "#f0f921"
             ]
            ],
            "type": "histogram2dcontour"
           }
          ],
          "mesh3d": [
           {
            "colorbar": {
             "outlinewidth": 0,
             "ticks": ""
            },
            "type": "mesh3d"
           }
          ],
          "parcoords": [
           {
            "line": {
             "colorbar": {
              "outlinewidth": 0,
              "ticks": ""
             }
            },
            "type": "parcoords"
           }
          ],
          "pie": [
           {
            "automargin": true,
            "type": "pie"
           }
          ],
          "scatter": [
           {
            "marker": {
             "colorbar": {
              "outlinewidth": 0,
              "ticks": ""
             }
            },
            "type": "scatter"
           }
          ],
          "scatter3d": [
           {
            "line": {
             "colorbar": {
              "outlinewidth": 0,
              "ticks": ""
             }
            },
            "marker": {
             "colorbar": {
              "outlinewidth": 0,
              "ticks": ""
             }
            },
            "type": "scatter3d"
           }
          ],
          "scattercarpet": [
           {
            "marker": {
             "colorbar": {
              "outlinewidth": 0,
              "ticks": ""
             }
            },
            "type": "scattercarpet"
           }
          ],
          "scattergeo": [
           {
            "marker": {
             "colorbar": {
              "outlinewidth": 0,
              "ticks": ""
             }
            },
            "type": "scattergeo"
           }
          ],
          "scattergl": [
           {
            "marker": {
             "colorbar": {
              "outlinewidth": 0,
              "ticks": ""
             }
            },
            "type": "scattergl"
           }
          ],
          "scattermapbox": [
           {
            "marker": {
             "colorbar": {
              "outlinewidth": 0,
              "ticks": ""
             }
            },
            "type": "scattermapbox"
           }
          ],
          "scatterpolar": [
           {
            "marker": {
             "colorbar": {
              "outlinewidth": 0,
              "ticks": ""
             }
            },
            "type": "scatterpolar"
           }
          ],
          "scatterpolargl": [
           {
            "marker": {
             "colorbar": {
              "outlinewidth": 0,
              "ticks": ""
             }
            },
            "type": "scatterpolargl"
           }
          ],
          "scatterternary": [
           {
            "marker": {
             "colorbar": {
              "outlinewidth": 0,
              "ticks": ""
             }
            },
            "type": "scatterternary"
           }
          ],
          "surface": [
           {
            "colorbar": {
             "outlinewidth": 0,
             "ticks": ""
            },
            "colorscale": [
             [
              0,
              "#0d0887"
             ],
             [
              0.1111111111111111,
              "#46039f"
             ],
             [
              0.2222222222222222,
              "#7201a8"
             ],
             [
              0.3333333333333333,
              "#9c179e"
             ],
             [
              0.4444444444444444,
              "#bd3786"
             ],
             [
              0.5555555555555556,
              "#d8576b"
             ],
             [
              0.6666666666666666,
              "#ed7953"
             ],
             [
              0.7777777777777778,
              "#fb9f3a"
             ],
             [
              0.8888888888888888,
              "#fdca26"
             ],
             [
              1,
              "#f0f921"
             ]
            ],
            "type": "surface"
           }
          ],
          "table": [
           {
            "cells": {
             "fill": {
              "color": "#EBF0F8"
             },
             "line": {
              "color": "white"
             }
            },
            "header": {
             "fill": {
              "color": "#C8D4E3"
             },
             "line": {
              "color": "white"
             }
            },
            "type": "table"
           }
          ]
         },
         "layout": {
          "annotationdefaults": {
           "arrowcolor": "#2a3f5f",
           "arrowhead": 0,
           "arrowwidth": 1
          },
          "autotypenumbers": "strict",
          "coloraxis": {
           "colorbar": {
            "outlinewidth": 0,
            "ticks": ""
           }
          },
          "colorscale": {
           "diverging": [
            [
             0,
             "#8e0152"
            ],
            [
             0.1,
             "#c51b7d"
            ],
            [
             0.2,
             "#de77ae"
            ],
            [
             0.3,
             "#f1b6da"
            ],
            [
             0.4,
             "#fde0ef"
            ],
            [
             0.5,
             "#f7f7f7"
            ],
            [
             0.6,
             "#e6f5d0"
            ],
            [
             0.7,
             "#b8e186"
            ],
            [
             0.8,
             "#7fbc41"
            ],
            [
             0.9,
             "#4d9221"
            ],
            [
             1,
             "#276419"
            ]
           ],
           "sequential": [
            [
             0,
             "#0d0887"
            ],
            [
             0.1111111111111111,
             "#46039f"
            ],
            [
             0.2222222222222222,
             "#7201a8"
            ],
            [
             0.3333333333333333,
             "#9c179e"
            ],
            [
             0.4444444444444444,
             "#bd3786"
            ],
            [
             0.5555555555555556,
             "#d8576b"
            ],
            [
             0.6666666666666666,
             "#ed7953"
            ],
            [
             0.7777777777777778,
             "#fb9f3a"
            ],
            [
             0.8888888888888888,
             "#fdca26"
            ],
            [
             1,
             "#f0f921"
            ]
           ],
           "sequentialminus": [
            [
             0,
             "#0d0887"
            ],
            [
             0.1111111111111111,
             "#46039f"
            ],
            [
             0.2222222222222222,
             "#7201a8"
            ],
            [
             0.3333333333333333,
             "#9c179e"
            ],
            [
             0.4444444444444444,
             "#bd3786"
            ],
            [
             0.5555555555555556,
             "#d8576b"
            ],
            [
             0.6666666666666666,
             "#ed7953"
            ],
            [
             0.7777777777777778,
             "#fb9f3a"
            ],
            [
             0.8888888888888888,
             "#fdca26"
            ],
            [
             1,
             "#f0f921"
            ]
           ]
          },
          "colorway": [
           "#636efa",
           "#EF553B",
           "#00cc96",
           "#ab63fa",
           "#FFA15A",
           "#19d3f3",
           "#FF6692",
           "#B6E880",
           "#FF97FF",
           "#FECB52"
          ],
          "font": {
           "color": "#2a3f5f"
          },
          "geo": {
           "bgcolor": "white",
           "lakecolor": "white",
           "landcolor": "#E5ECF6",
           "showlakes": true,
           "showland": true,
           "subunitcolor": "white"
          },
          "hoverlabel": {
           "align": "left"
          },
          "hovermode": "closest",
          "mapbox": {
           "style": "light"
          },
          "paper_bgcolor": "white",
          "plot_bgcolor": "#E5ECF6",
          "polar": {
           "angularaxis": {
            "gridcolor": "white",
            "linecolor": "white",
            "ticks": ""
           },
           "bgcolor": "#E5ECF6",
           "radialaxis": {
            "gridcolor": "white",
            "linecolor": "white",
            "ticks": ""
           }
          },
          "scene": {
           "xaxis": {
            "backgroundcolor": "#E5ECF6",
            "gridcolor": "white",
            "gridwidth": 2,
            "linecolor": "white",
            "showbackground": true,
            "ticks": "",
            "zerolinecolor": "white"
           },
           "yaxis": {
            "backgroundcolor": "#E5ECF6",
            "gridcolor": "white",
            "gridwidth": 2,
            "linecolor": "white",
            "showbackground": true,
            "ticks": "",
            "zerolinecolor": "white"
           },
           "zaxis": {
            "backgroundcolor": "#E5ECF6",
            "gridcolor": "white",
            "gridwidth": 2,
            "linecolor": "white",
            "showbackground": true,
            "ticks": "",
            "zerolinecolor": "white"
           }
          },
          "shapedefaults": {
           "line": {
            "color": "#2a3f5f"
           }
          },
          "ternary": {
           "aaxis": {
            "gridcolor": "white",
            "linecolor": "white",
            "ticks": ""
           },
           "baxis": {
            "gridcolor": "white",
            "linecolor": "white",
            "ticks": ""
           },
           "bgcolor": "#E5ECF6",
           "caxis": {
            "gridcolor": "white",
            "linecolor": "white",
            "ticks": ""
           }
          },
          "title": {
           "x": 0.05
          },
          "xaxis": {
           "automargin": true,
           "gridcolor": "white",
           "linecolor": "white",
           "ticks": "",
           "title": {
            "standoff": 15
           },
           "zerolinecolor": "white",
           "zerolinewidth": 2
          },
          "yaxis": {
           "automargin": true,
           "gridcolor": "white",
           "linecolor": "white",
           "ticks": "",
           "title": {
            "standoff": 15
           },
           "zerolinecolor": "white",
           "zerolinewidth": 2
          }
         }
        },
        "title": {
         "text": "pH values over the years"
        },
        "xaxis": {
         "title": {
          "text": "Time"
         }
        },
        "yaxis": {
         "title": {
          "text": "pH"
         }
        }
       }
      },
      "text/html": [
       "<div>                            <div id=\"70a128bf-9294-43a8-b7d8-ae72414987e4\" class=\"plotly-graph-div\" style=\"height:525px; width:100%;\"></div>            <script type=\"text/javascript\">                require([\"plotly\"], function(Plotly) {                    window.PLOTLYENV=window.PLOTLYENV || {};                                    if (document.getElementById(\"70a128bf-9294-43a8-b7d8-ae72414987e4\")) {                    Plotly.newPlot(                        \"70a128bf-9294-43a8-b7d8-ae72414987e4\",                        [{\"mode\": \"lines\", \"name\": \"pH-1\", \"type\": \"scatter\", \"x\": [\"Jan  5, 14\", \"Jan 21, 14\", \"Feb  6, 14\", \"Feb 22, 14\", \"Apr 27, 14\", \"May 13, 14\", \"May 29, 14\", \"Jun 14, 14\", \"Jun 30, 14\", \"Jul 16, 14\", \"Aug  1, 14\", \"Aug 17, 14\", \"Sep  2, 14\", \"Sep 18, 14\", \"Oct  4, 14\", \"Oct 20, 14\", \"Nov  5, 14\", \"Nov 21, 14\", \"Dec  7, 14\", \"Dec 23, 14\", \"Jan  8, 15\", \"Jan 24, 15\", \"Feb  9, 15\", \"Feb 25, 15\", \"Mar 13, 15\", \"Mar 29, 15\", \"Apr 14, 15\", \"Apr 30, 15\", \"May 16, 15\", \"Jun 17, 15\", \"Jul  3, 15\", \"Jul 19, 15\", \"Aug  4, 15\", \"Aug 20, 15\", \"Sep  5, 15\", \"Sep 21, 15\", \"Oct  7, 15\", \"Oct 23, 15\", \"Nov  8, 15\", \"Nov 24, 15\", \"Dec 10, 15\", \"Dec 26, 15\", \"Jan 11, 16\", \"Jan 27, 16\", \"Feb 12, 16\", \"Feb 28, 16\", \"Mar 15, 16\", \"Mar 31, 16\", \"Apr 16, 16\", \"May  2, 16\", \"May 18, 16\", \"Jun  3, 16\", \"Jul  5, 16\", \"Jul 21, 16\", \"Aug  6, 16\", \"Aug 22, 16\", \"Sep  7, 16\", \"Sep 23, 16\", \"Oct  9, 16\", \"Oct 25, 16\", \"Nov 10, 16\", \"Nov 26, 16\", \"Dec 12, 16\", \"Dec 28, 16\", \"Jan 13, 17\", \"Jan 29, 17\", \"Feb 14, 17\", \"Mar  2, 17\", \"Mar 18, 17\", \"Apr  3, 17\", \"Apr 19, 17\", \"May  5, 17\", \"May 21, 17\", \"Jun  6, 17\", \"Jun 22, 17\", \"Jul  8, 17\", \"Jul 24, 17\", \"Aug  9, 17\", \"Aug 25, 17\", \"Sep 10, 17\", \"Sep 26, 17\", \"Oct 12, 17\", \"Oct 28, 17\", \"Nov 13, 17\", \"Nov 29, 17\", \"Dec 15, 17\", \"Dec 31, 17\", \"Jan 16, 18\", \"Feb  1, 18\", \"Feb 17, 18\", \"Mar  5, 18\", \"Mar 21, 18\", \"Apr 22, 18\", \"May  8, 18\", \"May 24, 18\", \"Jun  9, 18\", \"Jun 25, 18\", \"Jul 11, 18\", \"Jul 27, 18\", \"Aug 12, 18\", \"Aug 28, 18\", \"Sep 13, 18\", \"Sep 29, 18\", \"Oct 15, 18\", \"Oct 31, 18\", \"Nov 16, 18\", \"Dec  2, 18\", \"Dec 18, 18\", \"Jan  3, 19\", \"Jan 19, 19\", \"Feb 20, 19\", \"Mar  8, 19\", \"Mar 24, 19\", \"Apr  9, 19\", \"Apr 25, 19\", \"May 11, 19\", \"May 27, 19\", \"Jun 12, 19\", \"Jun 28, 19\", \"Jul 14, 19\", \"Jul 30, 19\", \"Aug 15, 19\", \"Aug 31, 19\", \"Sep 16, 19\", \"Oct  2, 19\", \"Oct 18, 19\", \"Nov  3, 19\", \"Nov 19, 19\", \"Dec  5, 19\", \"Jan  6, 20\", \"Jan 22, 20\", \"Feb  7, 20\", \"Mar 10, 20\", \"Mar 26, 20\", \"Apr 11, 20\", \"Apr 27, 20\", \"May 13, 20\", \"May 29, 20\", \"Jun 14, 20\", \"Jun 30, 20\", \"Jul 16, 20\", \"Aug  1, 20\", \"Aug 17, 20\", \"Sep  2, 20\", \"Sep 18, 20\", \"Oct  4, 20\", \"Oct 20, 20\", \"Nov 21, 20\", \"Dec  7, 20\"], \"y\": [7.862412187781691, 8.146229939052285, 7.9937564935687515, 7.871055759833043, 7.907235593974988, 7.985820369580284, 7.892257784692628, 8.190674043903211, 7.861688676332968, 7.86237868542984, 7.858733985324245, 7.873426094229427, 7.856003478594166, 7.855191185772191, 7.925509874847945, 7.913921761029473, 7.956714417858926, 7.858917650272847, 7.855050616783953, 7.855510404626673, 7.999358531592591, 7.887755817171954, 7.863380225147503, 7.915676371720291, 7.907999120424841, 7.877512755246934, 7.9002325133898, 7.860366720092314, 7.96118178430327, 7.880564135574296, 7.861289589252579, 7.861476790841832, 7.862769470405682, 7.866346280148289, 7.863407313148499, 7.864515800462265, 7.9472473895289495, 7.864074128570374, 7.91205076386443, 7.854743338960004, 7.856277785615243, 7.860826223193361, 7.858752117098968, 7.924226865604622, 7.863229699571297, 7.895707423832611, 8.114705290474856, 7.985338292774799, 7.8682946982408035, 7.867546161703609, 7.866476432683529, 7.877461873211983, 7.871405660846537, 7.8899453520318135, 7.890353963956881, 7.92350369380769, 7.888540226406516, 7.859335752857156, 7.8593535163250445, 7.901472754383589, 7.858723392112774, 7.864843335290889, 8.025522284826181, 7.896336269320795, 8.011755800082609, 7.869890647956069, 7.8737881012189455, 7.873539609831859, 7.864634274286082, 7.870831895826248, 8.09392670555498, 7.869734977718891, 7.892846288031691, 7.9243554909463985, 7.867992296772962, 7.867120915900042, 7.908773823476992, 7.859518266542679, 7.861841306079497, 7.898286948649308, 7.85451461244556, 7.855272442509936, 7.855011273222561, 7.903309631583942, 7.997130552520512, 7.8647375734411735, 7.920290932608698, 8.135329369717601, 7.858496150251433, 7.86350032887843, 7.883682462508303, 7.871754618155118, 7.868289129503186, 7.9121566061265005, 7.988326154110672, 7.880815873721137, 7.8850420945480275, 8.061331235317232, 7.930686488841764, 7.857885251425722, 7.855000080410888, 7.895944534114991, 7.876240553048694, 7.871311241155409, 7.853698543720369, 7.852828157147996, 7.900392963129506, 7.867112133763934, 7.868161020515179, 7.998991188357899, 7.866767165851249, 8.158711209013576, 8.00857530664992, 7.867241634226716, 7.957192555436154, 7.861117468577177, 7.932263754702009, 7.865133343470915, 7.893382820361733, 7.861195221989776, 7.8794217333378365, 7.875899714390933, 7.895009866138851, 7.94858435831579, 7.968149448292164, 7.854562071899174, 7.869936647972451, 7.876424302496035, 7.852242708461195, 7.934065019283839, 7.864685711797309, 7.951478257413901, 7.972286000673396, 7.900340080122532, 7.865164036360084, 7.871383597054568, 7.866706101195553, 7.862033283787429, 7.87818685663575, 7.96496087048924, 7.860892622915244, 7.864612916535827, 7.857906497187079, 8.103954278688736, 7.935038380007297, 7.85725287147954, 7.882157706939619, 7.981685948608433, 7.855098350378289]}],                        {\"template\": {\"data\": {\"bar\": [{\"error_x\": {\"color\": \"#2a3f5f\"}, \"error_y\": {\"color\": \"#2a3f5f\"}, \"marker\": {\"line\": {\"color\": \"#E5ECF6\", \"width\": 0.5}}, \"type\": \"bar\"}], \"barpolar\": [{\"marker\": {\"line\": {\"color\": \"#E5ECF6\", \"width\": 0.5}}, \"type\": \"barpolar\"}], \"carpet\": [{\"aaxis\": {\"endlinecolor\": \"#2a3f5f\", \"gridcolor\": \"white\", \"linecolor\": \"white\", \"minorgridcolor\": \"white\", \"startlinecolor\": \"#2a3f5f\"}, \"baxis\": {\"endlinecolor\": \"#2a3f5f\", \"gridcolor\": \"white\", \"linecolor\": \"white\", \"minorgridcolor\": \"white\", \"startlinecolor\": \"#2a3f5f\"}, \"type\": \"carpet\"}], \"choropleth\": [{\"colorbar\": {\"outlinewidth\": 0, \"ticks\": \"\"}, \"type\": \"choropleth\"}], \"contour\": [{\"colorbar\": {\"outlinewidth\": 0, \"ticks\": \"\"}, \"colorscale\": [[0.0, \"#0d0887\"], [0.1111111111111111, \"#46039f\"], [0.2222222222222222, \"#7201a8\"], [0.3333333333333333, \"#9c179e\"], [0.4444444444444444, \"#bd3786\"], [0.5555555555555556, \"#d8576b\"], [0.6666666666666666, \"#ed7953\"], [0.7777777777777778, \"#fb9f3a\"], [0.8888888888888888, \"#fdca26\"], [1.0, \"#f0f921\"]], \"type\": \"contour\"}], \"contourcarpet\": [{\"colorbar\": {\"outlinewidth\": 0, \"ticks\": \"\"}, \"type\": \"contourcarpet\"}], \"heatmap\": [{\"colorbar\": {\"outlinewidth\": 0, \"ticks\": \"\"}, \"colorscale\": [[0.0, \"#0d0887\"], [0.1111111111111111, \"#46039f\"], [0.2222222222222222, \"#7201a8\"], [0.3333333333333333, \"#9c179e\"], [0.4444444444444444, \"#bd3786\"], [0.5555555555555556, \"#d8576b\"], [0.6666666666666666, \"#ed7953\"], [0.7777777777777778, \"#fb9f3a\"], [0.8888888888888888, \"#fdca26\"], [1.0, \"#f0f921\"]], \"type\": \"heatmap\"}], \"heatmapgl\": [{\"colorbar\": {\"outlinewidth\": 0, \"ticks\": \"\"}, \"colorscale\": [[0.0, \"#0d0887\"], [0.1111111111111111, \"#46039f\"], [0.2222222222222222, \"#7201a8\"], [0.3333333333333333, \"#9c179e\"], [0.4444444444444444, \"#bd3786\"], [0.5555555555555556, \"#d8576b\"], [0.6666666666666666, \"#ed7953\"], [0.7777777777777778, \"#fb9f3a\"], [0.8888888888888888, \"#fdca26\"], [1.0, \"#f0f921\"]], \"type\": \"heatmapgl\"}], \"histogram\": [{\"marker\": {\"colorbar\": {\"outlinewidth\": 0, \"ticks\": \"\"}}, \"type\": \"histogram\"}], \"histogram2d\": [{\"colorbar\": {\"outlinewidth\": 0, \"ticks\": \"\"}, \"colorscale\": [[0.0, \"#0d0887\"], [0.1111111111111111, \"#46039f\"], [0.2222222222222222, \"#7201a8\"], [0.3333333333333333, \"#9c179e\"], [0.4444444444444444, \"#bd3786\"], [0.5555555555555556, \"#d8576b\"], [0.6666666666666666, \"#ed7953\"], [0.7777777777777778, \"#fb9f3a\"], [0.8888888888888888, \"#fdca26\"], [1.0, \"#f0f921\"]], \"type\": \"histogram2d\"}], \"histogram2dcontour\": [{\"colorbar\": {\"outlinewidth\": 0, \"ticks\": \"\"}, \"colorscale\": [[0.0, \"#0d0887\"], [0.1111111111111111, \"#46039f\"], [0.2222222222222222, \"#7201a8\"], [0.3333333333333333, \"#9c179e\"], [0.4444444444444444, \"#bd3786\"], [0.5555555555555556, \"#d8576b\"], [0.6666666666666666, \"#ed7953\"], [0.7777777777777778, \"#fb9f3a\"], [0.8888888888888888, \"#fdca26\"], [1.0, \"#f0f921\"]], \"type\": \"histogram2dcontour\"}], \"mesh3d\": [{\"colorbar\": {\"outlinewidth\": 0, \"ticks\": \"\"}, \"type\": \"mesh3d\"}], \"parcoords\": [{\"line\": {\"colorbar\": {\"outlinewidth\": 0, \"ticks\": \"\"}}, \"type\": \"parcoords\"}], \"pie\": [{\"automargin\": true, \"type\": \"pie\"}], \"scatter\": [{\"marker\": {\"colorbar\": {\"outlinewidth\": 0, \"ticks\": \"\"}}, \"type\": \"scatter\"}], \"scatter3d\": [{\"line\": {\"colorbar\": {\"outlinewidth\": 0, \"ticks\": \"\"}}, \"marker\": {\"colorbar\": {\"outlinewidth\": 0, \"ticks\": \"\"}}, \"type\": \"scatter3d\"}], \"scattercarpet\": [{\"marker\": {\"colorbar\": {\"outlinewidth\": 0, \"ticks\": \"\"}}, \"type\": \"scattercarpet\"}], \"scattergeo\": [{\"marker\": {\"colorbar\": {\"outlinewidth\": 0, \"ticks\": \"\"}}, \"type\": \"scattergeo\"}], \"scattergl\": [{\"marker\": {\"colorbar\": {\"outlinewidth\": 0, \"ticks\": \"\"}}, \"type\": \"scattergl\"}], \"scattermapbox\": [{\"marker\": {\"colorbar\": {\"outlinewidth\": 0, \"ticks\": \"\"}}, \"type\": \"scattermapbox\"}], \"scatterpolar\": [{\"marker\": {\"colorbar\": {\"outlinewidth\": 0, \"ticks\": \"\"}}, \"type\": \"scatterpolar\"}], \"scatterpolargl\": [{\"marker\": {\"colorbar\": {\"outlinewidth\": 0, \"ticks\": \"\"}}, \"type\": \"scatterpolargl\"}], \"scatterternary\": [{\"marker\": {\"colorbar\": {\"outlinewidth\": 0, \"ticks\": \"\"}}, \"type\": \"scatterternary\"}], \"surface\": [{\"colorbar\": {\"outlinewidth\": 0, \"ticks\": \"\"}, \"colorscale\": [[0.0, \"#0d0887\"], [0.1111111111111111, \"#46039f\"], [0.2222222222222222, \"#7201a8\"], [0.3333333333333333, \"#9c179e\"], [0.4444444444444444, \"#bd3786\"], [0.5555555555555556, \"#d8576b\"], [0.6666666666666666, \"#ed7953\"], [0.7777777777777778, \"#fb9f3a\"], [0.8888888888888888, \"#fdca26\"], [1.0, \"#f0f921\"]], \"type\": \"surface\"}], \"table\": [{\"cells\": {\"fill\": {\"color\": \"#EBF0F8\"}, \"line\": {\"color\": \"white\"}}, \"header\": {\"fill\": {\"color\": \"#C8D4E3\"}, \"line\": {\"color\": \"white\"}}, \"type\": \"table\"}]}, \"layout\": {\"annotationdefaults\": {\"arrowcolor\": \"#2a3f5f\", \"arrowhead\": 0, \"arrowwidth\": 1}, \"autotypenumbers\": \"strict\", \"coloraxis\": {\"colorbar\": {\"outlinewidth\": 0, \"ticks\": \"\"}}, \"colorscale\": {\"diverging\": [[0, \"#8e0152\"], [0.1, \"#c51b7d\"], [0.2, \"#de77ae\"], [0.3, \"#f1b6da\"], [0.4, \"#fde0ef\"], [0.5, \"#f7f7f7\"], [0.6, \"#e6f5d0\"], [0.7, \"#b8e186\"], [0.8, \"#7fbc41\"], [0.9, \"#4d9221\"], [1, \"#276419\"]], \"sequential\": [[0.0, \"#0d0887\"], [0.1111111111111111, \"#46039f\"], [0.2222222222222222, \"#7201a8\"], [0.3333333333333333, \"#9c179e\"], [0.4444444444444444, \"#bd3786\"], [0.5555555555555556, \"#d8576b\"], [0.6666666666666666, \"#ed7953\"], [0.7777777777777778, \"#fb9f3a\"], [0.8888888888888888, \"#fdca26\"], [1.0, \"#f0f921\"]], \"sequentialminus\": [[0.0, \"#0d0887\"], [0.1111111111111111, \"#46039f\"], [0.2222222222222222, \"#7201a8\"], [0.3333333333333333, \"#9c179e\"], [0.4444444444444444, \"#bd3786\"], [0.5555555555555556, \"#d8576b\"], [0.6666666666666666, \"#ed7953\"], [0.7777777777777778, \"#fb9f3a\"], [0.8888888888888888, \"#fdca26\"], [1.0, \"#f0f921\"]]}, \"colorway\": [\"#636efa\", \"#EF553B\", \"#00cc96\", \"#ab63fa\", \"#FFA15A\", \"#19d3f3\", \"#FF6692\", \"#B6E880\", \"#FF97FF\", \"#FECB52\"], \"font\": {\"color\": \"#2a3f5f\"}, \"geo\": {\"bgcolor\": \"white\", \"lakecolor\": \"white\", \"landcolor\": \"#E5ECF6\", \"showlakes\": true, \"showland\": true, \"subunitcolor\": \"white\"}, \"hoverlabel\": {\"align\": \"left\"}, \"hovermode\": \"closest\", \"mapbox\": {\"style\": \"light\"}, \"paper_bgcolor\": \"white\", \"plot_bgcolor\": \"#E5ECF6\", \"polar\": {\"angularaxis\": {\"gridcolor\": \"white\", \"linecolor\": \"white\", \"ticks\": \"\"}, \"bgcolor\": \"#E5ECF6\", \"radialaxis\": {\"gridcolor\": \"white\", \"linecolor\": \"white\", \"ticks\": \"\"}}, \"scene\": {\"xaxis\": {\"backgroundcolor\": \"#E5ECF6\", \"gridcolor\": \"white\", \"gridwidth\": 2, \"linecolor\": \"white\", \"showbackground\": true, \"ticks\": \"\", \"zerolinecolor\": \"white\"}, \"yaxis\": {\"backgroundcolor\": \"#E5ECF6\", \"gridcolor\": \"white\", \"gridwidth\": 2, \"linecolor\": \"white\", \"showbackground\": true, \"ticks\": \"\", \"zerolinecolor\": \"white\"}, \"zaxis\": {\"backgroundcolor\": \"#E5ECF6\", \"gridcolor\": \"white\", \"gridwidth\": 2, \"linecolor\": \"white\", \"showbackground\": true, \"ticks\": \"\", \"zerolinecolor\": \"white\"}}, \"shapedefaults\": {\"line\": {\"color\": \"#2a3f5f\"}}, \"ternary\": {\"aaxis\": {\"gridcolor\": \"white\", \"linecolor\": \"white\", \"ticks\": \"\"}, \"baxis\": {\"gridcolor\": \"white\", \"linecolor\": \"white\", \"ticks\": \"\"}, \"bgcolor\": \"#E5ECF6\", \"caxis\": {\"gridcolor\": \"white\", \"linecolor\": \"white\", \"ticks\": \"\"}}, \"title\": {\"x\": 0.05}, \"xaxis\": {\"automargin\": true, \"gridcolor\": \"white\", \"linecolor\": \"white\", \"ticks\": \"\", \"title\": {\"standoff\": 15}, \"zerolinecolor\": \"white\", \"zerolinewidth\": 2}, \"yaxis\": {\"automargin\": true, \"gridcolor\": \"white\", \"linecolor\": \"white\", \"ticks\": \"\", \"title\": {\"standoff\": 15}, \"zerolinecolor\": \"white\", \"zerolinewidth\": 2}}}, \"title\": {\"text\": \"pH values over the years\"}, \"xaxis\": {\"title\": {\"text\": \"Time\"}}, \"yaxis\": {\"title\": {\"text\": \"pH\"}}},                        {\"responsive\": true}                    ).then(function(){\n",
       "                            \n",
       "var gd = document.getElementById('70a128bf-9294-43a8-b7d8-ae72414987e4');\n",
       "var x = new MutationObserver(function (mutations, observer) {{\n",
       "        var display = window.getComputedStyle(gd).display;\n",
       "        if (!display || display === 'none') {{\n",
       "            console.log([gd, 'removed!']);\n",
       "            Plotly.purge(gd);\n",
       "            observer.disconnect();\n",
       "        }}\n",
       "}});\n",
       "\n",
       "// Listen for the removal of the full notebook cells\n",
       "var notebookContainer = gd.closest('#notebook-container');\n",
       "if (notebookContainer) {{\n",
       "    x.observe(notebookContainer, {childList: true});\n",
       "}}\n",
       "\n",
       "// Listen for the clearing of the current output cell\n",
       "var outputEl = gd.closest('.output');\n",
       "if (outputEl) {{\n",
       "    x.observe(outputEl, {childList: true});\n",
       "}}\n",
       "\n",
       "                        })                };                });            </script>        </div>"
      ]
     },
     "metadata": {},
     "output_type": "display_data"
    }
   ],
   "source": [
    "import subprocess\n",
    "from datetime import datetime\n",
    "from datetime import timedelta\n",
    "from geemap import DrawControl\n",
    "from ipywidgets import HTML\n",
    "from ipyleaflet import Popup\n",
    "\n",
    "try:\n",
    "        import geemap\n",
    "except ImportError:\n",
    "        print('geemap/pyshp package not installed. Installing ...')\n",
    "        subprocess.check_call([\"python\", '-m', 'pip', 'install', 'geemap'])\n",
    "\n",
    "import geemap as emap\n",
    "from ipygee import *\n",
    "\n",
    "# Authenticates and initializes Earth Engine\n",
    "import ee\n",
    "\n",
    "try:\n",
    "        ee.Initialize()\n",
    "except Exception as e:\n",
    "#         ee.Authenticate()\n",
    "        ee.Initialize()\n",
    "\n",
    "# Creates an interactive map\n",
    "Map = emap.Map(center=[-20,148], zoom=10)\n",
    "\n",
    "draw_control = DrawControl()\n",
    "\n",
    "# USGS Landsat 8 Collection 1 Tier 1 TOA Reflectance from EARTH ENGINE data catalog\n",
    "l8 = ee.ImageCollection(\"LANDSAT/LC08/C01/T1_TOA\")\n",
    "\n",
    "'''NDVI AND NDMI layer generation functions'''\n",
    "\n",
    "\n",
    "# Calculate the NDVI for the given image while performing cloud masking. \n",
    "def cloudlessNDVI(image):\n",
    "    # Get a cloud score in [0, 100].       \n",
    "    cloud = ee.Algorithms.Landsat.simpleCloudScore(image).select('cloud');\n",
    "\n",
    "    # Create a mask of cloudy pixels from an arbitrary threshold.\n",
    "    mask = cloud.lte(20);\n",
    "\n",
    "    # Compute NDVI.\n",
    "    ndvi = image.normalizedDifference(['B5', 'B4']).rename('NDVI');\n",
    "\n",
    "    # Return the masked image with an NDVI band.\n",
    "    return image.addBands(ndvi).updateMask(mask);\n",
    "\n",
    "\n",
    "def cloudlessMoistureIndex(image):\n",
    "  # Get a cloud score in [0, 100].\n",
    "    cloud = ee.Algorithms.Landsat.simpleCloudScore(image).select('cloud');\n",
    "\n",
    "  # Create a mask of cloudy pixels from an arbitrary threshold.\n",
    "    mask = cloud.lte(20);\n",
    "\n",
    "  # Compute NDVI.\n",
    "    moist = image.normalizedDifference(['B5', 'B6']).rename('NDMI');\n",
    "\n",
    "  # Return the masked image with an NDVI band.\n",
    "    return image.addBands(moist).updateMask(mask);\n",
    "\n",
    "def get_pH(image):\n",
    "    pH_band = image.expression(\n",
    "        '7.84 + (0.48 * B2) - (0.12 * B6)', {\n",
    "          'B6': image.select('B6'),\n",
    "          'B2': image.select('B2')\n",
    "    }).rename('pH')\n",
    "    return image.addBands(pH_band)\n",
    "\n",
    "def generateIndexLayer(geometry_object, count, l8):\n",
    "#     ndvi_pal = ['#d73027', '#f46d43', '#fdae61', '#fee08b', '#d9ef8b','#a6d96a']\n",
    "    ndvi_pal = ['FFFFFF', 'CE7E45', 'DF923D', 'F1B555', 'FCD163', '99B718', '74A901', '66A000', '529400', '3E8601', '207401', '056201', '004C00', '023B01', '012E01', '011D01', '011301']\n",
    "    pH_pal = ['fe0002', 'd9fd07', '37a737', '004dff', '44008b' ]\n",
    "    \n",
    "    cloudless_masked_NDVI = l8.map(cloudlessNDVI)\n",
    "    final_NDVI = cloudless_masked_NDVI.map(lambda image : image.clip(geometry_object)) \n",
    "#     final_NDVI = cloudless_masked_NDVI.filterBounds(geometry_object) \n",
    "    \n",
    "    cloudless_masked_NDMI = l8.map(cloudlessMoistureIndex)\n",
    "    final_NDMI = cloudless_masked_NDMI.map(lambda image : image.clip(geometry_object)) \n",
    "#     final_NDMI = cloudless_masked_NDMI.filterBounds(geometry_object) \n",
    "    \n",
    "    ph_collection = l8.map(get_pH)\n",
    "    ph_collection_final = ph_collection.map(lambda image : image.clip(geometry_object)) \n",
    "#     ph_collection_final = ph_collection.filterBounds(geometry_object) \n",
    "    \n",
    "    Map.addLayer(final_NDVI.select('NDVI'), {min:-0.5, max:0.9, 'palette': ndvi_pal}, \"NDVI - \" + str(count))\n",
    "    Map.addLayer(final_NDMI.select('NDMI'), {min:-0.5, max:0.9, 'palette': ndvi_pal}, \"NDMI - \" + str(count))\n",
    "#     Map.addLayer(ph_collection_final.select('pH'), {min:5, max:9, 'palette': pH_pal}, \"pH - \" + str(count), shown = False, opacity = 0.5)\n",
    "    \n",
    "#     centroid = geometry_object.centroid().getInfo()\n",
    "#     center = centroid['coordinates']\n",
    "    \n",
    "#     temp = center[0]\n",
    "#     center[0] = center[1]\n",
    "#     center[1] = temp\n",
    "    \n",
    "#     message1 = HTML()\n",
    "#     message1.value = \"Vegetation Index: , Moisture Index: ,pH value:\"\n",
    "\n",
    "#     popup = Popup(\n",
    "#         location=center,\n",
    "#         child=message1,\n",
    "#         close_button=False,\n",
    "#         auto_close=False,\n",
    "#         close_on_escape_key=False\n",
    "#     )\n",
    "\n",
    "#     Map.add_layer(popup)\n",
    "    \n",
    "\n",
    "def handle_draw(geo_json, count, l8, start_date, end_date):\n",
    "    newPolygon = ee.Geometry(geo_json[\"geometry\"])\n",
    "    generateIndexLayer(newPolygon, count, l8)\n",
    "    get_popup(newPolygon, start_date, end_date)\n",
    "    \n",
    "    \n",
    "features = []\n",
    "def add_Feature(self,action, geo_json):\n",
    "    features.append(geo_json)\n",
    "    draw_features()\n",
    "    \n",
    "        \n",
    "def draw_features(l8 = ee.ImageCollection(\"LANDSAT/LC08/C01/T1_TOA\"), start_date = datetime(2014, 1, 1), end_date = datetime.now()):\n",
    "    count = 0\n",
    "    for feature in features:\n",
    "        count += 1\n",
    "        handle_draw(feature, count, l8, start_date, end_date)\n",
    "    create_index_charts()\n",
    "    \n",
    "    \n",
    "def create_index_charts(startDate = datetime(2014, 1, 1), endDate = datetime.now()):\n",
    "    if features:\n",
    "        get_time_series_chart(features, startDate, endDate, \"NDVI\").show()\n",
    "        get_time_series_chart(features, startDate, endDate, \"NDMI\").show()\n",
    "        get_time_series_chart(features, startDate, endDate, \"pH\").show()\n",
    "            \n",
    "draw_control.polygon = {\n",
    "    \"shapeOptions\": {\n",
    "        \"fillColor\": \"#6be5c3\",\n",
    "        \"color\": \"#6be5c3\",\n",
    "        \"fillOpacity\": 1.0\n",
    "    },\n",
    "    \"drawError\": {\n",
    "        \"color\": \"#dd253b\",\n",
    "        \"message\": \"Oops!\"\n",
    "    },\n",
    "    \"allowIntersection\": False\n",
    "}\n",
    "draw_control.rectangle = {\n",
    "    \"shapeOptions\": {\n",
    "        \"fillColor\": \"#fca45d\",\n",
    "        \"color\": \"#fca45d\",\n",
    "        \"fillOpacity\": 1.0\n",
    "    }\n",
    "}\n",
    "\n",
    "Map.add_basemap('SATELLITE')\n",
    "Map.add_control(draw_control)\n",
    "draw_control.on_draw(add_Feature)\n",
    "\n",
    "\n",
    "import ipywidgets as widgets\n",
    "import pandas as pd\n",
    "from datetime import datetime\n",
    "from ipyleaflet import WidgetControl\n",
    "\n",
    "start_date = datetime(2014, 1, 1)\n",
    "end_date = datetime.now()\n",
    "\n",
    "dates = pd.date_range(start_date, end_date, freq='SMS')\n",
    "\n",
    "options = [(date.strftime(' %d %b %y '), date) for date in dates]\n",
    "index = (0, len(options)-1)\n",
    "\n",
    "date_range_slider = widgets.SelectionSlider(\n",
    "    options=options,\n",
    "    description='Date:',\n",
    "    disabled=False,\n",
    "    continuous_update=False,\n",
    "    orientation='horizontal',\n",
    "    readout=True\n",
    ")\n",
    "\n",
    "def print_date_range(date_range):\n",
    "    l8 = ee.ImageCollection(\"LANDSAT/LC08/C01/T1_TOA\").filterDate(date_range, date_range + timedelta(days=20))\n",
    "    draw_features(l8, date_range, date_range + timedelta(days=20))\n",
    "    \n",
    "widgets.interact(\n",
    "    print_date_range,\n",
    "    date_range=date_range_slider\n",
    ");\n",
    "\n",
    "widget_control2 = WidgetControl(widget=date_range_slider, position='bottomright')\n",
    "Map.add_control(widget_control2)\n",
    "add_shape_files(Map)\n",
    "\n",
    "Map"
   ]
  },
  {
   "cell_type": "code",
   "execution_count": 8,
   "metadata": {},
   "outputs": [],
   "source": [
    "create_index_charts()"
   ]
  },
  {
   "cell_type": "code",
   "execution_count": null,
   "metadata": {},
   "outputs": [],
   "source": []
  }
 ],
 "metadata": {
  "kernelspec": {
   "display_name": "Python 3",
   "language": "python",
   "name": "python3"
  },
  "language_info": {
   "codemirror_mode": {
    "name": "ipython",
    "version": 3
   },
   "file_extension": ".py",
   "mimetype": "text/x-python",
   "name": "python",
   "nbconvert_exporter": "python",
   "pygments_lexer": "ipython3",
   "version": "3.6.7"
  }
 },
 "nbformat": 4,
 "nbformat_minor": 4
}
